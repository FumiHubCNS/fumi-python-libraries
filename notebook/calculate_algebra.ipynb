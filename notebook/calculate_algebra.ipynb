{
 "cells": [
  {
   "cell_type": "markdown",
   "id": "6fe2b95f-5dc6-4fa1-a991-8857bc4ac9bf",
   "metadata": {},
   "source": [
    "# 代数計算(微分・積分・行列計算)を行う\n",
    "\n",
    "代数計算ライブラリ`sympy`を用いて簡単な代数計算を行い、できることの一例を示します。\n",
    "\n",
    "まずは必要なライブラリを`import`してきます。"
   ]
  },
  {
   "cell_type": "code",
   "execution_count": 1,
   "id": "686c62a5-ddf9-481b-ac64-fd603ca92e16",
   "metadata": {},
   "outputs": [],
   "source": [
    "from fumi_python_libraries import BasicAlgebraicCalculationClass\n",
    "import numpy\n",
    "import sympy"
   ]
  },
  {
   "cell_type": "markdown",
   "id": "074ce6aa-edba-490e-a1f2-f9785ee67fab",
   "metadata": {},
   "source": [
    "インスタンスを生成します。"
   ]
  },
  {
   "cell_type": "code",
   "execution_count": 2,
   "id": "4bab5a07-960c-4595-8b4c-8fa7ade0694c",
   "metadata": {},
   "outputs": [],
   "source": [
    "alg_calc = BasicAlgebraicCalculationClass()"
   ]
  },
  {
   "cell_type": "markdown",
   "id": "b2aad785-12e6-4768-8ab3-51326fefe8d4",
   "metadata": {},
   "source": [
    "## 基本操作\n",
    "\n",
    "### 出力形式の確認\n",
    "\n",
    "まずはデフォルトの値で出力を見てみます。\n",
    "\n",
    "`BasicAlgebraicCalculationClass`のクラスでは`print_formula()`という関数が実装されています。\n",
    "\n",
    "`select_print_mode( bool )`で表示形式を判別する変数`latex_paste_mode`を設定できます。\n",
    "\n",
    "デフォルトではこの変数は`False`で、`IPython.diplay.display()`で描画されます（Jupyter Notebookで数式を綺麗に出力してくれる関数です。）\n",
    "\n",
    "一方で`True`では`print()`で出力します。この形式ではLatex(Overleafやcloud latex)、Keynoteの数式モードにペーストして使える形でダンプしてくれます。"
   ]
  },
  {
   "cell_type": "code",
   "execution_count": 3,
   "id": "c2dcfea2-eeef-4781-a0b8-cb7a51de3068",
   "metadata": {},
   "outputs": [
    {
     "data": {
      "text/latex": [
       "$\\displaystyle f(x) = x$"
      ],
      "text/plain": [
       "<IPython.core.display.Math object>"
      ]
     },
     "metadata": {},
     "output_type": "display_data"
    }
   ],
   "source": [
    "alg_calc.print_formula()"
   ]
  },
  {
   "cell_type": "markdown",
   "id": "cd990be8-de52-4d29-b20b-bfd66364862d",
   "metadata": {},
   "source": [
    "`latex_paste_mode = True`にして見てみましょう。"
   ]
  },
  {
   "cell_type": "code",
   "execution_count": 4,
   "id": "fecf9266-edc8-4236-948c-31ddbe49991d",
   "metadata": {},
   "outputs": [
    {
     "name": "stdout",
     "output_type": "stream",
     "text": [
      "f(x) = x \\\\\n"
     ]
    }
   ],
   "source": [
    "alg_calc.select_print_mode(True)\n",
    "alg_calc.print_formula()"
   ]
  },
  {
   "cell_type": "markdown",
   "id": "090e372d-ae0c-471f-be7e-4c2b1f4eedf1",
   "metadata": {},
   "source": [
    "### よく使用するメソッドの使い方"
   ]
  },
  {
   "cell_type": "markdown",
   "id": "2f3c9b67-d993-4599-b6d0-1487ca492daa",
   "metadata": {},
   "source": [
    "#### 代数の宣言と代数計算を行う。\n",
    "\n",
    "まずは宣言時ですが、引数として生成する変数リストを渡すことができます。\n",
    "\n",
    "この際、生成した変数はクラス内の変数リストに格納されるので`get_variable_symbols()`を用いて取得することができます。"
   ]
  },
  {
   "cell_type": "code",
   "execution_count": 5,
   "id": "29294206-b05a-4c68-adfe-bf59dd1889f8",
   "metadata": {},
   "outputs": [],
   "source": [
    "alg_calc = BasicAlgebraicCalculationClass([\"\\\\alpha\",\"\\\\beta\",\"x\"])"
   ]
  },
  {
   "cell_type": "code",
   "execution_count": 6,
   "id": "a700d59b-c325-4bcc-b04c-8041e0e03571",
   "metadata": {},
   "outputs": [],
   "source": [
    "var = alg_calc.get_variable_symbols()"
   ]
  },
  {
   "cell_type": "markdown",
   "id": "ff213456-9354-4c34-90ef-09d013d1c267",
   "metadata": {},
   "source": [
    "上記のようにして渡された変数は普通のプログラム同様に四則演算ができます。"
   ]
  },
  {
   "cell_type": "code",
   "execution_count": 7,
   "id": "82f5d471-6313-4ec5-ac24-5ca460b981db",
   "metadata": {},
   "outputs": [],
   "source": [
    "fun = ( var[0] ) / ( var[2]**3 + var[1] )"
   ]
  },
  {
   "cell_type": "markdown",
   "id": "1c332f53-02f1-474f-932e-528014bb07af",
   "metadata": {},
   "source": [
    "このようにして計算した関数を`BasicAlgebraicCalculationClass`の右辺に渡しましょう。\n",
    "\n",
    "メソッドは`set_right_hand_side(function)`です。"
   ]
  },
  {
   "cell_type": "code",
   "execution_count": 8,
   "id": "844bbcca-78c9-4809-9370-037024e66aac",
   "metadata": {},
   "outputs": [
    {
     "data": {
      "text/latex": [
       "$\\displaystyle f(x) = \\frac{\\alpha}{\\beta + x^{3}}$"
      ],
      "text/plain": [
       "<IPython.core.display.Math object>"
      ]
     },
     "metadata": {},
     "output_type": "display_data"
    }
   ],
   "source": [
    "alg_calc.set_right_hand_side(fun)\n",
    "alg_calc.print_formula()"
   ]
  },
  {
   "cell_type": "markdown",
   "id": "c955b00d-1503-4727-b882-c44647752cef",
   "metadata": {},
   "source": [
    "同様にして、`set_left_hand_side(function)`左辺にも値を渡すことができます。\n",
    "\n",
    "ただし、`set_left_hand_side(function)`の時渡す引数の方は文字列を前提にしています。\n",
    "\n",
    "これは後述する行列計算の時におかしな描かれ方をすることを防ぐためです。\n",
    "\n",
    "`sympy`で宣言したもの四則演算の結果を描画する際は代数を名前の順などにソートして出力します。\n",
    "\n",
    "行列の代表させた大文字の$A$などの値をいれて$A^{-1}PA$などを描くと出力した時に$A^{-1}AP$などを表示してきます。\n",
    "\n",
    "そのため少し面倒ですが、左辺は文字列で書くことにしています。\n",
    "\n",
    "では同様にして左辺を代入してみましょう。"
   ]
  },
  {
   "cell_type": "code",
   "execution_count": 9,
   "id": "67439d0a-778b-4a6f-ac14-c63d4fa33847",
   "metadata": {},
   "outputs": [
    {
     "data": {
      "text/latex": [
       "$\\displaystyle f(\\alpha,\\beta,x) = \\frac{\\alpha}{\\beta + x^{3}}$"
      ],
      "text/plain": [
       "<IPython.core.display.Math object>"
      ]
     },
     "metadata": {},
     "output_type": "display_data"
    }
   ],
   "source": [
    "alg_calc.set_left_hand_side('f(\\\\alpha,\\\\beta,x)')\n",
    "alg_calc.print_formula()"
   ]
  },
  {
   "cell_type": "markdown",
   "id": "8d854fda-94f5-40c3-ac11-17783aee6911",
   "metadata": {},
   "source": [
    "新たに変数を生成する場合は`create_variables()`を使用します。"
   ]
  },
  {
   "cell_type": "code",
   "execution_count": 10,
   "id": "6f02fe68-45f4-4add-a603-0b7ef798242b",
   "metadata": {},
   "outputs": [
    {
     "data": {
      "text/latex": [
       "$\\displaystyle f(a,b,x) = \\frac{a}{b + x^{3}}$"
      ],
      "text/plain": [
       "<IPython.core.display.Math object>"
      ]
     },
     "metadata": {},
     "output_type": "display_data"
    }
   ],
   "source": [
    "var = alg_calc.create_variables([\"a\",\"b\",\"x\"])\n",
    "alg_calc.set_left_hand_side('f(a,b,x)')\n",
    "fun = ( var[0] ) / ( var[2]**3 + var[1] )\n",
    "alg_calc.set_right_hand_side(fun)\n",
    "alg_calc.print_formula()"
   ]
  },
  {
   "cell_type": "markdown",
   "id": "085da1ae-f52e-499d-b5ca-ee61ac558101",
   "metadata": {},
   "source": [
    "またこのクラスが持つ左辺と右辺に変数に値を渡さずにダンプするメソッド`print_external_input(left, right)`もあります。\n",
    "\n",
    "例えば以下のようできます。"
   ]
  },
  {
   "cell_type": "code",
   "execution_count": 11,
   "id": "0db9eb8f-a3c8-40ac-ac51-724271bf3dcb",
   "metadata": {},
   "outputs": [
    {
     "data": {
      "text/latex": [
       "$\\displaystyle x(t) = a \\sin{\\left(x \\right)} + b \\sin{\\left(x \\right)} + \\left|{a + x^{b}}\\right|$"
      ],
      "text/plain": [
       "<IPython.core.display.Math object>"
      ]
     },
     "metadata": {},
     "output_type": "display_data"
    }
   ],
   "source": [
    "alg_calc.print_external_input(\"x(t)\", var[0] * sympy.sin ( var[2] ) + var[1] * sympy.sin ( var[2] ) + abs( var[0] + var[2]**var[1] ) )"
   ]
  },
  {
   "cell_type": "markdown",
   "id": "baca2ea3-a739-4bfd-885a-9aad297f12ba",
   "metadata": {},
   "source": [
    "念の為もう一度`print_formula()`を用いてクラス内の左辺と右辺の式を格納している変数が更新されていないことを確認します。"
   ]
  },
  {
   "cell_type": "code",
   "execution_count": 12,
   "id": "b7c3ab03-ae59-4fda-ac52-6c980e8afddb",
   "metadata": {},
   "outputs": [
    {
     "data": {
      "text/latex": [
       "$\\displaystyle f(a,b,x) = \\frac{a}{b + x^{3}}$"
      ],
      "text/plain": [
       "<IPython.core.display.Math object>"
      ]
     },
     "metadata": {},
     "output_type": "display_data"
    }
   ],
   "source": [
    "alg_calc.print_formula()"
   ]
  },
  {
   "cell_type": "markdown",
   "id": "116e999e-00bd-4c92-aa7a-3020fc58a402",
   "metadata": {},
   "source": [
    "#### 数値を代入する\n",
    "\n",
    "次に値を代入してみましょう。値を代入して出力する時は複数のメソッドを使用します。\n",
    "まず、`set_variable_symbols(　list )`にはクラスが持つ変数のうち値を代入したり、微分積分をしたりする変数を指定します。\n",
    "\n",
    "ここでは`a`, `b`を定数として、これらの変数に値を代入してみましょう。"
   ]
  },
  {
   "cell_type": "code",
   "execution_count": 13,
   "id": "4d2032a2-f353-4349-aefc-8148adb87b54",
   "metadata": {},
   "outputs": [],
   "source": [
    "alg_calc.set_variable_symbols([\"a\",\"b\"])"
   ]
  },
  {
   "cell_type": "markdown",
   "id": "84e06ce9-6730-46c7-a9de-46552bd34d76",
   "metadata": {},
   "source": [
    "上のメソッド自体は戻り値を持たないので、そのまま代入の操作を行なっていきます。\n",
    "\n",
    "代入は`assign_values(variable list,valule list)`を使用します。\n",
    "\n",
    "今回は$a=1$, $b=2$を代入してみます。"
   ]
  },
  {
   "cell_type": "code",
   "execution_count": 14,
   "id": "a2aa9328-80f2-42f5-9e72-f3d73d69a2f4",
   "metadata": {},
   "outputs": [],
   "source": [
    "alg_calc.assign_values([\"a\",\"b\"],[1,2])"
   ]
  },
  {
   "cell_type": "markdown",
   "id": "a306ab27-2631-4d14-8db5-1ee8686861d5",
   "metadata": {},
   "source": [
    "上記の操作を行うと生成したインスタンス内の右辺ではない変数に一時的値が格納されます。\n",
    "\n",
    "この一時的に格納された値は`get_variable_values()`を使用して取得できます。\n",
    "\n",
    "以下のセルでは取得したのち、`print_external_input()`でダンプてみます。"
   ]
  },
  {
   "cell_type": "code",
   "execution_count": 15,
   "id": "ac11a9d5-320f-432e-b623-4369fff3208e",
   "metadata": {},
   "outputs": [
    {
     "data": {
      "text/latex": [
       "$\\displaystyle \\mathrm{Asigned\\,function} = \\frac{1}{x^{3} + 2}$"
      ],
      "text/plain": [
       "<IPython.core.display.Math object>"
      ]
     },
     "metadata": {},
     "output_type": "display_data"
    }
   ],
   "source": [
    "alg_calc.print_external_input('\\\\mathrm{Asigned\\\\,function}', alg_calc.get_variable_values())"
   ]
  },
  {
   "cell_type": "markdown",
   "id": "9654ca7c-7fb2-41c9-9079-cfd1062a4999",
   "metadata": {},
   "source": [
    "右辺を更新したい場合は、`set_right_hand_side()`に値を渡すか、`assign_values()`の第4引数を`True`にすると更新できます。（第3引数については丸め込みのフラグです。この後説明します。）\n",
    "\n",
    "このように代入後に変数を更新しない理由はloop処理ないで毎回別の値を代入する時にいちいちloopの中でインスタンスを生成したり、関数を定義しなおしたりしなくても済むようにしているためです。"
   ]
  },
  {
   "cell_type": "code",
   "execution_count": 16,
   "id": "d5e19767-06f9-4c4c-ae70-f3cdfa94d1fb",
   "metadata": {},
   "outputs": [
    {
     "name": "stdout",
     "output_type": "stream",
     "text": [
      "# 関数を再定義\n"
     ]
    },
    {
     "data": {
      "text/latex": [
       "$\\displaystyle f(a,b,x) = \\frac{a}{b + x^{3}}$"
      ],
      "text/plain": [
       "<IPython.core.display.Math object>"
      ]
     },
     "metadata": {},
     "output_type": "display_data"
    },
    {
     "name": "stdout",
     "output_type": "stream",
     "text": [
      "# 値を代入して更新\n"
     ]
    },
    {
     "data": {
      "text/latex": [
       "$\\displaystyle f(a,b,x) = \\frac{1}{x^{3} + 2}$"
      ],
      "text/plain": [
       "<IPython.core.display.Math object>"
      ]
     },
     "metadata": {},
     "output_type": "display_data"
    }
   ],
   "source": [
    "print(\"# 関数を再定義\")\n",
    "var = alg_calc.create_variables([\"a\",\"b\",\"x\"])\n",
    "alg_calc.set_left_hand_side('f(a,b,x)')\n",
    "fun = ( var[0] ) / ( var[2]**3 + var[1] )\n",
    "alg_calc.set_right_hand_side(fun)\n",
    "alg_calc.print_formula()\n",
    "print(\"# 値を代入して更新\")\n",
    "alg_calc.set_variable_symbols([\"a\",\"b\"])\n",
    "alg_calc.assign_values([\"a\",\"b\"],[1,2],None,True)\n",
    "alg_calc.print_formula()"
   ]
  },
  {
   "cell_type": "markdown",
   "id": "564c0966-3e0f-4f59-8931-3e389c36beea",
   "metadata": {},
   "source": [
    "#### 計算結果/出力結果を丸める\n",
    "\n",
    "また`sympy`で出力すると、表示される桁がじどうで調整されないので割り切れない数字を入れると大変なことになったりします。\n",
    "\n",
    "そのためいくつかの丸め込み用の引数やメソッドが用意されています。\n",
    "\n",
    "例えば循環小数$\\dfrac{1}{19}=0.\\overline{052631578947368421}$を表示してみましょう。"
   ]
  },
  {
   "cell_type": "code",
   "execution_count": 17,
   "id": "3b49a7b0-7c1f-42da-a495-690ae595469b",
   "metadata": {},
   "outputs": [
    {
     "data": {
      "text/latex": [
       "$\\displaystyle \\frac{1}{19} = 0.0526315789473684$"
      ],
      "text/plain": [
       "<IPython.core.display.Math object>"
      ]
     },
     "metadata": {},
     "output_type": "display_data"
    }
   ],
   "source": [
    "function = var[0] / ( var[1] + var[2] )\n",
    "values = [1, 19, 0]\n",
    "labels = [\"a\", \"b\", \"x\"]\n",
    "alg_calc.set_right_hand_side( function )\n",
    "alg_calc.set_variable_symbols( labels )\n",
    "alg_calc.assign_values( labels, values )\n",
    "alg_calc.set_left_hand_side( \"\\\\frac{1}{19}\" )\n",
    "alg_calc.set_right_hand_side( alg_calc.get_variable_values() )\n",
    "alg_calc.print_formula()"
   ]
  },
  {
   "cell_type": "markdown",
   "id": "38ff43f3-f3e4-4bd2-b5ac-3de3c176620b",
   "metadata": {},
   "source": [
    "こんな感じで長ったらしい数字が羅列されても困ってしまうことがあります。\n",
    "\n",
    "これをなんとかする方法の一つとして、先ほど使用した代入するメソッド`assign_values()`の第3引数にて丸める桁指定できます。\n",
    "\n",
    "書き方は`assign_values(variable list,valule list, round digit)`です。\n",
    "\n",
    "このメソッドでは代入する前に丸めることになります。\n",
    "\n",
    "例えば以下のような感じになります。"
   ]
  },
  {
   "cell_type": "code",
   "execution_count": 18,
   "id": "47dd07c6-be90-4806-babe-d91380223756",
   "metadata": {},
   "outputs": [
    {
     "data": {
      "text/latex": [
       "$\\displaystyle \\mathrm{Round}\\left(\\frac{1}{19},0\\right) = 0.05$"
      ],
      "text/plain": [
       "<IPython.core.display.Math object>"
      ]
     },
     "metadata": {},
     "output_type": "display_data"
    }
   ],
   "source": [
    "values = [1, 10.5000000001, 9.4999999999]\n",
    "labels = [\"a\", \"b\", \"x\"]\n",
    "alg_calc.set_right_hand_side( function )\n",
    "alg_calc.set_variable_symbols( labels )\n",
    "alg_calc.assign_values( labels, values , 6)\n",
    "alg_calc.set_left_hand_side( \"\\\\mathrm{Round}\\\\left(\\\\frac{1}{19},0\\\\right)\" )\n",
    "alg_calc.set_right_hand_side( alg_calc.get_variable_values() )\n",
    "alg_calc.print_formula()"
   ]
  },
  {
   "cell_type": "markdown",
   "id": "6cee6f5a-7fc6-460c-b7b5-f74b87d701b2",
   "metadata": {},
   "source": [
    "ただしこの場合は代入される前に丸められるので上記のように6桁目で丸めるようにしてもアウトプットは小数点2桁になってしまいます。\n",
    "\n",
    "それもそのはずで、代入前に四捨五入しているので、$\\frac{1}{10.5+9.5}=\\frac{1}{20}$になっているので想定以上に丸め込まれていることがわかると思います。\n",
    "\n",
    "このような場合には代入する前ではなく、後に丸めるたくなります。\n",
    "\n",
    "そのためのメソッドが`round_right_hand_side( round_digits )`です。"
   ]
  },
  {
   "cell_type": "code",
   "execution_count": 19,
   "id": "2569d4d5-cfdb-4406-95e1-cde855f11e4a",
   "metadata": {},
   "outputs": [
    {
     "data": {
      "text/latex": [
       "$\\displaystyle \\mathrm{Round}\\left(\\frac{1}{19},6\\right) = 0.052632$"
      ],
      "text/plain": [
       "<IPython.core.display.Math object>"
      ]
     },
     "metadata": {},
     "output_type": "display_data"
    }
   ],
   "source": [
    "function = var[0] / ( var[1] + var[2] )\n",
    "values = [1, 19, 0]\n",
    "labels = [\"a\", \"b\", \"x\"]\n",
    "alg_calc.set_right_hand_side( function )\n",
    "alg_calc.set_variable_symbols( labels )\n",
    "alg_calc.assign_values( labels, values )\n",
    "alg_calc.set_left_hand_side( \"\\\\mathrm{Round}\\\\left(\\\\frac{1}{19},6\\\\right)\" )\n",
    "alg_calc.set_right_hand_side( alg_calc.get_variable_values() )\n",
    "alg_calc.round_right_hand_side(6)\n",
    "alg_calc.print_formula()"
   ]
  },
  {
   "cell_type": "markdown",
   "id": "ff03bb41-3b0d-4e5b-846e-5627af4158f2",
   "metadata": {
    "jp-MarkdownHeadingCollapsed": true
   },
   "source": [
    "上記の`round_right_hand_side( round_digits )`では元々の右辺を更新するので計算を終えて、最後に表示する時のみ使用することが推奨されます。"
   ]
  },
  {
   "cell_type": "markdown",
   "id": "7d9fc2c9-0a7b-49b0-b0f0-0f570af2811a",
   "metadata": {},
   "source": [
    "#### ObjectをCopyする\n",
    "\n",
    "さらにクラスをコピーするメソッドもあります。\n",
    "このメソッドはモンテカルロなどにおいてloop処理ないで逐次代入する際にいちいち新しいクラスを宣言する必要がないようにするためです。"
   ]
  },
  {
   "cell_type": "code",
   "execution_count": 20,
   "id": "4468fa84-f90c-4d00-b975-6aeaf27b824e",
   "metadata": {},
   "outputs": [
    {
     "data": {
      "text/latex": [
       "$\\displaystyle \\mathrm{Round}\\left(\\frac{1}{19},6\\right) = 0.052632$"
      ],
      "text/plain": [
       "<IPython.core.display.Math object>"
      ]
     },
     "metadata": {},
     "output_type": "display_data"
    }
   ],
   "source": [
    "copied_alg_calc = alg_calc.copy_class()\n",
    "copied_alg_calc.print_formula()"
   ]
  },
  {
   "cell_type": "markdown",
   "id": "991e947a-2148-40a8-a7a8-5ffdcd49e45b",
   "metadata": {},
   "source": [
    "## 微分積分をおこなう\n",
    "\n",
    "sympyが持つ微分積分をおこなうメソッドを用いた微分・積を行うメソッドが用意されています。\n",
    "\n",
    "その方法を書いておきます。"
   ]
  },
  {
   "cell_type": "markdown",
   "id": "2072b1e6-29d9-4fb3-839c-ec8f062e8a6e",
   "metadata": {},
   "source": [
    "### 不定積分をしてみる\n",
    "\n",
    "不定積分は`indefinite_integral(variable, update flag)`を使います。\n",
    "\n",
    "まずは積分する前に新たに積分するための関数をわたします。\n",
    "\n",
    "一度初期化しても良いですが`set_formula（lhs, rhs)`で外部から一度に右辺と左辺を登録できます。"
   ]
  },
  {
   "cell_type": "code",
   "execution_count": 21,
   "id": "93dd3970-d847-47ee-ad6d-677aa1e84a68",
   "metadata": {},
   "outputs": [
    {
     "data": {
      "text/latex": [
       "$\\displaystyle f(x,y) = a x + b y^{\\alpha} + c^{\\beta}$"
      ],
      "text/plain": [
       "<IPython.core.display.Math object>"
      ]
     },
     "metadata": {},
     "output_type": "display_data"
    }
   ],
   "source": [
    "alg_calc.select_print_mode(False)\n",
    "var = alg_calc.create_variables( [\"a\", \"x\", \"b\", \"y\", \"c\",\"\\\\alpha\", \"\\\\beta\"] )\n",
    "fun = var[0] * var[1] + var[2] * var[3]**var[5] + var[4]**var[6]\n",
    "alg_calc.set_formula( 'f(x,y)', fun )\n",
    "alg_calc.print_formula()"
   ]
  },
  {
   "cell_type": "markdown",
   "id": "6c6572f2-cc0e-4ca1-bab4-7ca5a642ad76",
   "metadata": {},
   "source": [
    "あとは`indefinite_integral(variable, update_flag)`で不定積分ができます。\n",
    "\n",
    "第2引数は積分結果で右辺を更新するかを選択できます。"
   ]
  },
  {
   "cell_type": "code",
   "execution_count": 22,
   "id": "d0689843-d8fb-4082-a0ed-d53c58886903",
   "metadata": {},
   "outputs": [
    {
     "data": {
      "text/latex": [
       "$\\displaystyle \\int f(x,y)dy = a x y + b \\left(\\begin{cases} \\frac{y^{\\alpha + 1}}{\\alpha + 1} & \\text{for}\\: \\alpha \\neq -1 \\\\\\log{\\left(y \\right)} & \\text{otherwise} \\end{cases}\\right) + c^{\\beta} y$"
      ],
      "text/plain": [
       "<IPython.core.display.Math object>"
      ]
     },
     "metadata": {},
     "output_type": "display_data"
    }
   ],
   "source": [
    "ind_intg = alg_calc.indefinite_integral( var[3], True )\n",
    "alg_calc.print_formula()"
   ]
  },
  {
   "cell_type": "markdown",
   "id": "0b47cb42-e14c-4c3c-9e1a-c8b1db93cb20",
   "metadata": {},
   "source": [
    "### 定積分をしてみる\n",
    "\n",
    "次に定積分です。こちらは`definite_integral( variable , min, max, update flag )`でできます。"
   ]
  },
  {
   "cell_type": "code",
   "execution_count": 23,
   "id": "37f5dfc2-d845-4480-982d-5fa0f254661f",
   "metadata": {},
   "outputs": [
    {
     "data": {
      "text/latex": [
       "$\\displaystyle \\int_{0}^{2}f(x,y)dx = 2 a + 2 b y^{\\alpha} + 2 c^{\\beta}$"
      ],
      "text/plain": [
       "<IPython.core.display.Math object>"
      ]
     },
     "metadata": {},
     "output_type": "display_data"
    }
   ],
   "source": [
    "int_range = [0, 2]\n",
    "alg_calc.set_formula( 'f(x,y)', fun )\n",
    "def_intg = alg_calc.definite_integral( var[1] , *int_range, True )\n",
    "alg_calc.print_formula()"
   ]
  },
  {
   "cell_type": "markdown",
   "id": "55c5f98b-38b0-4520-8938-f23914bc0f0d",
   "metadata": {},
   "source": [
    "### 微分してみる\n",
    "\n",
    "次に微分です。こちらは`differentiate( variable, update flag )`です。"
   ]
  },
  {
   "cell_type": "code",
   "execution_count": 24,
   "id": "362e3c50-7cfe-4cff-9fef-11faf7f76d6c",
   "metadata": {},
   "outputs": [
    {
     "data": {
      "text/latex": [
       "$\\displaystyle \\frac{d}{dc}f(x,y) = \\frac{\\beta c^{\\beta}}{c}$"
      ],
      "text/plain": [
       "<IPython.core.display.Math object>"
      ]
     },
     "metadata": {},
     "output_type": "display_data"
    }
   ],
   "source": [
    "alg_calc.set_formula( 'f(x,y)', fun )\n",
    "dif_func = alg_calc.differentiate( var[4], True )\n",
    "alg_calc.print_formula()"
   ]
  },
  {
   "cell_type": "markdown",
   "id": "e5a6393d-e291-4754-9bae-bcbe87d618de",
   "metadata": {},
   "source": [
    "## 行列計算をしてみる。\n",
    "\n",
    "最後に行列計算です。\n",
    "\n",
    "行列の計算では生成するためのメソッドなどが少し異なります。\n",
    "\n",
    "`create_martix_symbols( matrixsymbol, row, col, elementsymbol)`で生成します。\n",
    "\n",
    "第四引数は行列の各要素を代表する記号を指定したい時に使用します。\n",
    "\n",
    "デフォルトでは`None`になっており、この場合は第一引数で指定した文字の小文字が採用されます。\n",
    "\n",
    "戻り値は行列そのものと各要素の代数を格納したリストです。"
   ]
  },
  {
   "cell_type": "code",
   "execution_count": 25,
   "id": "13dedefc-58e3-4030-958f-81f5678fd469",
   "metadata": {},
   "outputs": [
    {
     "data": {
      "text/latex": [
       "$\\displaystyle A = \\left[\\begin{matrix}a_{1 1} & a_{1 2} & a_{1 3} & a_{1 4} & a_{1 5} & a_{1 6} & a_{1 7} & a_{1 8} & a_{1 9} & a_{1 10}\\\\a_{2 1} & a_{2 2} & a_{2 3} & a_{2 4} & a_{2 5} & a_{2 6} & a_{2 7} & a_{2 8} & a_{2 9} & a_{2 10}\\\\a_{3 1} & a_{3 2} & a_{3 3} & a_{3 4} & a_{3 5} & a_{3 6} & a_{3 7} & a_{3 8} & a_{3 9} & a_{3 10}\\\\a_{4 1} & a_{4 2} & a_{4 3} & a_{4 4} & a_{4 5} & a_{4 6} & a_{4 7} & a_{4 8} & a_{4 9} & a_{4 10}\\\\a_{5 1} & a_{5 2} & a_{5 3} & a_{5 4} & a_{5 5} & a_{5 6} & a_{5 7} & a_{5 8} & a_{5 9} & a_{5 10}\\\\a_{6 1} & a_{6 2} & a_{6 3} & a_{6 4} & a_{6 5} & a_{6 6} & a_{6 7} & a_{6 8} & a_{6 9} & a_{6 10}\\\\a_{7 1} & a_{7 2} & a_{7 3} & a_{7 4} & a_{7 5} & a_{7 6} & a_{7 7} & a_{7 8} & a_{7 9} & a_{7 10}\\\\a_{8 1} & a_{8 2} & a_{8 3} & a_{8 4} & a_{8 5} & a_{8 6} & a_{8 7} & a_{8 8} & a_{8 9} & a_{8 10}\\\\a_{9 1} & a_{9 2} & a_{9 3} & a_{9 4} & a_{9 5} & a_{9 6} & a_{9 7} & a_{9 8} & a_{9 9} & a_{9 10}\\\\a_{10 1} & a_{10 2} & a_{10 3} & a_{10 4} & a_{10 5} & a_{10 6} & a_{10 7} & a_{10 8} & a_{10 9} & a_{10 10}\\end{matrix}\\right]$"
      ],
      "text/plain": [
       "<IPython.core.display.Math object>"
      ]
     },
     "metadata": {},
     "output_type": "display_data"
    }
   ],
   "source": [
    "n = 10\n",
    "A, a = alg_calc.create_martix_symbols( \"A\", n, n )\n",
    "alg_calc.set_formula( 'A' , A )\n",
    "alg_calc.print_formula()"
   ]
  },
  {
   "cell_type": "markdown",
   "id": "511ca19e-fc37-4520-a3fb-45d765542eed",
   "metadata": {},
   "source": [
    "第2の戻り値は行列の各要素に値を代入する時に使用されます。\n",
    "\n",
    "以下では例えば、上記の$10 \\times 10$の行列に対して後からヒルベルト行列を代入してみます。\n",
    "\n",
    "まずはnumpyを使ってヒルベルト行列を数値で計算します。"
   ]
  },
  {
   "cell_type": "code",
   "execution_count": 26,
   "id": "a62b90e8-a550-4a30-91cc-426b9145d1dd",
   "metadata": {},
   "outputs": [],
   "source": [
    "def hilbert_matrix( n ):\n",
    "  H = numpy.zeros( ( n, n ) )\n",
    "  for i in range( n ):\n",
    "    for j in range( n ):\n",
    "      H[ i, j ] = 1 / ( i + j + 1 )\n",
    "  return H\n",
    "    \n",
    "h_np = hilbert_matrix( n ).flatten()"
   ]
  },
  {
   "cell_type": "markdown",
   "id": "da1ed4e1-ffc7-43dd-9f55-84867bfec91b",
   "metadata": {},
   "source": [
    "上記の式では最後に行列を平滑化しています。\n",
    "\n",
    "これは`assign_values()`で代入する際に渡すのものがリストのためです。\n",
    "\n",
    "今回は代入した後に`sympy.nsimplify( function, rational=True ) )`を用いて分数にしてから出力しています。\n",
    "\n",
    "これはみやすさ重視のためです。（ただし、結構適当に値の近い分数を取ってくることもあるので注意）"
   ]
  },
  {
   "cell_type": "code",
   "execution_count": 27,
   "id": "fbc47167-bccc-4d52-8912-910d34cd572a",
   "metadata": {},
   "outputs": [
    {
     "data": {
      "text/latex": [
       "$\\displaystyle H = \\left[\\begin{matrix}1 & \\frac{1}{2} & \\frac{1}{3} & \\frac{1}{4} & \\frac{1}{5} & \\frac{1}{6} & \\frac{1}{7} & \\frac{1}{8} & \\frac{1}{9} & \\frac{1}{10}\\\\\\frac{1}{2} & \\frac{1}{3} & \\frac{1}{4} & \\frac{1}{5} & \\frac{1}{6} & \\frac{1}{7} & \\frac{1}{8} & \\frac{1}{9} & \\frac{1}{10} & \\frac{1}{11}\\\\\\frac{1}{3} & \\frac{1}{4} & \\frac{1}{5} & \\frac{1}{6} & \\frac{1}{7} & \\frac{1}{8} & \\frac{1}{9} & \\frac{1}{10} & \\frac{1}{11} & \\frac{1}{12}\\\\\\frac{1}{4} & \\frac{1}{5} & \\frac{1}{6} & \\frac{1}{7} & \\frac{1}{8} & \\frac{1}{9} & \\frac{1}{10} & \\frac{1}{11} & \\frac{1}{12} & \\frac{1}{13}\\\\\\frac{1}{5} & \\frac{1}{6} & \\frac{1}{7} & \\frac{1}{8} & \\frac{1}{9} & \\frac{1}{10} & \\frac{1}{11} & \\frac{1}{12} & \\frac{1}{13} & \\frac{1}{14}\\\\\\frac{1}{6} & \\frac{1}{7} & \\frac{1}{8} & \\frac{1}{9} & \\frac{1}{10} & \\frac{1}{11} & \\frac{1}{12} & \\frac{1}{13} & \\frac{1}{14} & \\frac{1}{15}\\\\\\frac{1}{7} & \\frac{1}{8} & \\frac{1}{9} & \\frac{1}{10} & \\frac{1}{11} & \\frac{1}{12} & \\frac{1}{13} & \\frac{1}{14} & \\frac{1}{15} & \\frac{1}{16}\\\\\\frac{1}{8} & \\frac{1}{9} & \\frac{1}{10} & \\frac{1}{11} & \\frac{1}{12} & \\frac{1}{13} & \\frac{1}{14} & \\frac{1}{15} & \\frac{1}{16} & \\frac{1}{17}\\\\\\frac{1}{9} & \\frac{1}{10} & \\frac{1}{11} & \\frac{1}{12} & \\frac{1}{13} & \\frac{1}{14} & \\frac{1}{15} & \\frac{1}{16} & \\frac{1}{17} & \\frac{1}{18}\\\\\\frac{1}{10} & \\frac{1}{11} & \\frac{1}{12} & \\frac{1}{13} & \\frac{1}{14} & \\frac{1}{15} & \\frac{1}{16} & \\frac{1}{17} & \\frac{1}{18} & \\frac{1}{19}\\end{matrix}\\right]$"
      ],
      "text/plain": [
       "<IPython.core.display.Math object>"
      ]
     },
     "metadata": {},
     "output_type": "display_data"
    }
   ],
   "source": [
    "alg_calc.set_formula( 'A' , A )\n",
    "alg_calc.assign_values( a, h_np, None, True )\n",
    "h_sy = alg_calc.get_right_hand_side()\n",
    "alg_calc.set_formula( 'H', sympy.nsimplify( h_sy, rational=True ) )\n",
    "alg_calc.print_formula()"
   ]
  },
  {
   "cell_type": "markdown",
   "id": "4d4eabbe-dfb2-43ed-ba8a-2168b125cac3",
   "metadata": {},
   "source": [
    "上記の処理において肝心の計算部分では数値のみを使っていたので、当然成功していてほしいわけです。\n",
    "\n",
    "しかしsympyのいいところは代数のまま色々計算できるところです。\n",
    "\n",
    "そのため最後に、完全に代数のみで対角化をしたのちに値を代入してみます。\n",
    "\n",
    "今回は$2\\times 2$の行列を用意します。"
   ]
  },
  {
   "cell_type": "code",
   "execution_count": 28,
   "id": "73ad1a48-a136-470d-8c0d-ae8ebdf1231e",
   "metadata": {},
   "outputs": [
    {
     "data": {
      "text/latex": [
       "$\\displaystyle \\Lambda = \\left[\\begin{matrix}\\lambda_{1 1} & \\lambda_{1 2}\\\\\\lambda_{2 1} & \\lambda_{2 2}\\end{matrix}\\right]$"
      ],
      "text/plain": [
       "<IPython.core.display.Math object>"
      ]
     },
     "metadata": {},
     "output_type": "display_data"
    }
   ],
   "source": [
    "n = 2\n",
    "L, l = alg_calc.create_martix_symbols( \"Lambda\", n, n )\n",
    "alg_calc.set_formula( \"\\\\Lambda\" , L )\n",
    "alg_calc.print_formula()"
   ]
  },
  {
   "cell_type": "markdown",
   "id": "5946a9f5-d5e6-4770-9777-be62ecbb01e7",
   "metadata": {},
   "source": [
    "sympyの`diagonalize()`メソッドを使って対角化します。\n",
    "\n",
    "戻り値は対角行列を$\\Lambda=PDP^{-1}$とする時、$P$, $D$の順です。"
   ]
  },
  {
   "cell_type": "code",
   "execution_count": 29,
   "id": "14cfe41a-8be5-4e42-9267-bceb81925ef8",
   "metadata": {},
   "outputs": [
    {
     "data": {
      "text/latex": [
       "$\\displaystyle P = \\left[\\begin{matrix}\\frac{\\lambda_{1 1} - \\lambda_{2 2} - \\sqrt{\\lambda_{1 1}^{2} - 2 \\lambda_{1 1} \\lambda_{2 2} + 4 \\lambda_{1 2} \\lambda_{2 1} + \\lambda_{2 2}^{2}}}{2 \\lambda_{2 1}} & \\frac{\\lambda_{1 1} - \\lambda_{2 2} + \\sqrt{\\lambda_{1 1}^{2} - 2 \\lambda_{1 1} \\lambda_{2 2} + 4 \\lambda_{1 2} \\lambda_{2 1} + \\lambda_{2 2}^{2}}}{2 \\lambda_{2 1}}\\\\1 & 1\\end{matrix}\\right]$"
      ],
      "text/plain": [
       "<IPython.core.display.Math object>"
      ]
     },
     "metadata": {},
     "output_type": "display_data"
    },
    {
     "data": {
      "text/latex": [
       "$\\displaystyle D = \\left[\\begin{matrix}\\frac{\\lambda_{1 1}}{2} + \\frac{\\lambda_{2 2}}{2} - \\frac{\\sqrt{\\lambda_{1 1}^{2} - 2 \\lambda_{1 1} \\lambda_{2 2} + 4 \\lambda_{1 2} \\lambda_{2 1} + \\lambda_{2 2}^{2}}}{2} & 0\\\\0 & \\frac{\\lambda_{1 1}}{2} + \\frac{\\lambda_{2 2}}{2} + \\frac{\\sqrt{\\lambda_{1 1}^{2} - 2 \\lambda_{1 1} \\lambda_{2 2} + 4 \\lambda_{1 2} \\lambda_{2 1} + \\lambda_{2 2}^{2}}}{2}\\end{matrix}\\right]$"
      ],
      "text/plain": [
       "<IPython.core.display.Math object>"
      ]
     },
     "metadata": {},
     "output_type": "display_data"
    }
   ],
   "source": [
    "p, d = alg_calc.right_hand_side.diagonalize()\n",
    "alg_calc.print_external_input(\"P\",p)\n",
    "alg_calc.print_external_input(\"D\",d)"
   ]
  },
  {
   "cell_type": "markdown",
   "id": "157f7059-b0d4-4576-bab5-65d8626ac56d",
   "metadata": {},
   "source": [
    "上記のように対角化を計算できました。\n",
    "\n",
    "もちろん得られた行列についても代数計算可能です。\n",
    "\n",
    "まず、対角行列を計算してみましょう。"
   ]
  },
  {
   "cell_type": "code",
   "execution_count": 30,
   "id": "663ffee9-3efa-4cef-aa59-493856786ac8",
   "metadata": {},
   "outputs": [
    {
     "data": {
      "text/latex": [
       "$\\displaystyle P\\Lambda P^{-1} = \\left[\\begin{matrix}- \\frac{\\lambda_{1 2} \\lambda_{2 1}}{\\sqrt{\\lambda_{1 1}^{2} - 2 \\lambda_{1 1} \\lambda_{2 2} + 4 \\lambda_{1 2} \\lambda_{2 1} + \\lambda_{2 2}^{2}}} + \\frac{\\lambda_{2 2} \\left(\\lambda_{1 1} - \\lambda_{2 2} + \\sqrt{\\lambda_{1 1}^{2} - 2 \\lambda_{1 1} \\lambda_{2 2} + 4 \\lambda_{1 2} \\lambda_{2 1} + \\lambda_{2 2}^{2}}\\right)}{2 \\sqrt{\\lambda_{1 1}^{2} - 2 \\lambda_{1 1} \\lambda_{2 2} + 4 \\lambda_{1 2} \\lambda_{2 1} + \\lambda_{2 2}^{2}}} + \\frac{\\left(- \\frac{\\lambda_{1 1} \\lambda_{2 1}}{\\sqrt{\\lambda_{1 1}^{2} - 2 \\lambda_{1 1} \\lambda_{2 2} + 4 \\lambda_{1 2} \\lambda_{2 1} + \\lambda_{2 2}^{2}}} + \\frac{\\lambda_{2 1} \\left(\\lambda_{1 1} - \\lambda_{2 2} + \\sqrt{\\lambda_{1 1}^{2} - 2 \\lambda_{1 1} \\lambda_{2 2} + 4 \\lambda_{1 2} \\lambda_{2 1} + \\lambda_{2 2}^{2}}\\right)}{2 \\sqrt{\\lambda_{1 1}^{2} - 2 \\lambda_{1 1} \\lambda_{2 2} + 4 \\lambda_{1 2} \\lambda_{2 1} + \\lambda_{2 2}^{2}}}\\right) \\left(\\lambda_{1 1} - \\lambda_{2 2} - \\sqrt{\\lambda_{1 1}^{2} - 2 \\lambda_{1 1} \\lambda_{2 2} + 4 \\lambda_{1 2} \\lambda_{2 1} + \\lambda_{2 2}^{2}}\\right)}{2 \\lambda_{2 1}} & - \\frac{\\lambda_{1 2} \\lambda_{2 1}}{\\sqrt{\\lambda_{1 1}^{2} - 2 \\lambda_{1 1} \\lambda_{2 2} + 4 \\lambda_{1 2} \\lambda_{2 1} + \\lambda_{2 2}^{2}}} + \\frac{\\lambda_{2 2} \\left(\\lambda_{1 1} - \\lambda_{2 2} + \\sqrt{\\lambda_{1 1}^{2} - 2 \\lambda_{1 1} \\lambda_{2 2} + 4 \\lambda_{1 2} \\lambda_{2 1} + \\lambda_{2 2}^{2}}\\right)}{2 \\sqrt{\\lambda_{1 1}^{2} - 2 \\lambda_{1 1} \\lambda_{2 2} + 4 \\lambda_{1 2} \\lambda_{2 1} + \\lambda_{2 2}^{2}}} + \\frac{\\left(- \\frac{\\lambda_{1 1} \\lambda_{2 1}}{\\sqrt{\\lambda_{1 1}^{2} - 2 \\lambda_{1 1} \\lambda_{2 2} + 4 \\lambda_{1 2} \\lambda_{2 1} + \\lambda_{2 2}^{2}}} + \\frac{\\lambda_{2 1} \\left(\\lambda_{1 1} - \\lambda_{2 2} + \\sqrt{\\lambda_{1 1}^{2} - 2 \\lambda_{1 1} \\lambda_{2 2} + 4 \\lambda_{1 2} \\lambda_{2 1} + \\lambda_{2 2}^{2}}\\right)}{2 \\sqrt{\\lambda_{1 1}^{2} - 2 \\lambda_{1 1} \\lambda_{2 2} + 4 \\lambda_{1 2} \\lambda_{2 1} + \\lambda_{2 2}^{2}}}\\right) \\left(\\lambda_{1 1} - \\lambda_{2 2} + \\sqrt{\\lambda_{1 1}^{2} - 2 \\lambda_{1 1} \\lambda_{2 2} + 4 \\lambda_{1 2} \\lambda_{2 1} + \\lambda_{2 2}^{2}}\\right)}{2 \\lambda_{2 1}}\\\\\\frac{\\lambda_{1 2} \\lambda_{2 1}}{\\sqrt{\\lambda_{1 1}^{2} - 2 \\lambda_{1 1} \\lambda_{2 2} + 4 \\lambda_{1 2} \\lambda_{2 1} + \\lambda_{2 2}^{2}}} + \\frac{\\lambda_{2 2} \\left(- \\lambda_{1 1} + \\lambda_{2 2} + \\sqrt{\\lambda_{1 1}^{2} - 2 \\lambda_{1 1} \\lambda_{2 2} + 4 \\lambda_{1 2} \\lambda_{2 1} + \\lambda_{2 2}^{2}}\\right)}{2 \\sqrt{\\lambda_{1 1}^{2} - 2 \\lambda_{1 1} \\lambda_{2 2} + 4 \\lambda_{1 2} \\lambda_{2 1} + \\lambda_{2 2}^{2}}} + \\frac{\\left(\\frac{\\lambda_{1 1} \\lambda_{2 1}}{\\sqrt{\\lambda_{1 1}^{2} - 2 \\lambda_{1 1} \\lambda_{2 2} + 4 \\lambda_{1 2} \\lambda_{2 1} + \\lambda_{2 2}^{2}}} + \\frac{\\lambda_{2 1} \\left(- \\lambda_{1 1} + \\lambda_{2 2} + \\sqrt{\\lambda_{1 1}^{2} - 2 \\lambda_{1 1} \\lambda_{2 2} + 4 \\lambda_{1 2} \\lambda_{2 1} + \\lambda_{2 2}^{2}}\\right)}{2 \\sqrt{\\lambda_{1 1}^{2} - 2 \\lambda_{1 1} \\lambda_{2 2} + 4 \\lambda_{1 2} \\lambda_{2 1} + \\lambda_{2 2}^{2}}}\\right) \\left(\\lambda_{1 1} - \\lambda_{2 2} - \\sqrt{\\lambda_{1 1}^{2} - 2 \\lambda_{1 1} \\lambda_{2 2} + 4 \\lambda_{1 2} \\lambda_{2 1} + \\lambda_{2 2}^{2}}\\right)}{2 \\lambda_{2 1}} & \\frac{\\lambda_{1 2} \\lambda_{2 1}}{\\sqrt{\\lambda_{1 1}^{2} - 2 \\lambda_{1 1} \\lambda_{2 2} + 4 \\lambda_{1 2} \\lambda_{2 1} + \\lambda_{2 2}^{2}}} + \\frac{\\lambda_{2 2} \\left(- \\lambda_{1 1} + \\lambda_{2 2} + \\sqrt{\\lambda_{1 1}^{2} - 2 \\lambda_{1 1} \\lambda_{2 2} + 4 \\lambda_{1 2} \\lambda_{2 1} + \\lambda_{2 2}^{2}}\\right)}{2 \\sqrt{\\lambda_{1 1}^{2} - 2 \\lambda_{1 1} \\lambda_{2 2} + 4 \\lambda_{1 2} \\lambda_{2 1} + \\lambda_{2 2}^{2}}} + \\frac{\\left(\\frac{\\lambda_{1 1} \\lambda_{2 1}}{\\sqrt{\\lambda_{1 1}^{2} - 2 \\lambda_{1 1} \\lambda_{2 2} + 4 \\lambda_{1 2} \\lambda_{2 1} + \\lambda_{2 2}^{2}}} + \\frac{\\lambda_{2 1} \\left(- \\lambda_{1 1} + \\lambda_{2 2} + \\sqrt{\\lambda_{1 1}^{2} - 2 \\lambda_{1 1} \\lambda_{2 2} + 4 \\lambda_{1 2} \\lambda_{2 1} + \\lambda_{2 2}^{2}}\\right)}{2 \\sqrt{\\lambda_{1 1}^{2} - 2 \\lambda_{1 1} \\lambda_{2 2} + 4 \\lambda_{1 2} \\lambda_{2 1} + \\lambda_{2 2}^{2}}}\\right) \\left(\\lambda_{1 1} - \\lambda_{2 2} + \\sqrt{\\lambda_{1 1}^{2} - 2 \\lambda_{1 1} \\lambda_{2 2} + 4 \\lambda_{1 2} \\lambda_{2 1} + \\lambda_{2 2}^{2}}\\right)}{2 \\lambda_{2 1}}\\end{matrix}\\right]$"
      ],
      "text/plain": [
       "<IPython.core.display.Math object>"
      ]
     },
     "metadata": {},
     "output_type": "display_data"
    }
   ],
   "source": [
    "alg_calc.set_right_hand_side( p**-1 * L * p )\n",
    "alg_calc.set_left_hand_side( 'P\\\\Lambda P^{-1}' )\n",
    "alg_calc.print_formula()"
   ]
  },
  {
   "cell_type": "markdown",
   "id": "b1831dd0-8ebd-4a45-8b89-7e76fe0cdc7d",
   "metadata": {},
   "source": [
    "結構形が複雑ですね。\n",
    "\n",
    "自分で式を書いていたらかなり苦しそうです…\n",
    "\n",
    "この対角行列に値を代入していきましょう。"
   ]
  },
  {
   "cell_type": "code",
   "execution_count": 31,
   "id": "62ddf52e-765a-4bb8-a039-0020fc0bbec3",
   "metadata": {},
   "outputs": [
    {
     "data": {
      "text/latex": [
       "$\\displaystyle PHP^{-1} = \\left[\\begin{matrix}0.0657414541 & 0\\\\0 & 1.2675918792\\end{matrix}\\right]$"
      ],
      "text/plain": [
       "<IPython.core.display.Math object>"
      ]
     },
     "metadata": {},
     "output_type": "display_data"
    }
   ],
   "source": [
    "l_np = hilbert_matrix( n ).flatten()\n",
    "alg_calc.set_right_hand_side( p**-1 * L * p )\n",
    "alg_calc.assign_values( l, l_np)\n",
    "alg_calc.set_formula( 'PHP^{-1}', alg_calc.get_matrix( alg_calc.get_variable_values() ) )\n",
    "alg_calc.round_right_hand_side(10)\n",
    "alg_calc.print_formula()\n",
    "php = alg_calc.get_right_hand_side()"
   ]
  },
  {
   "cell_type": "markdown",
   "id": "d64c85fe-7beb-46a0-9160-371da8e85d06",
   "metadata": {},
   "source": [
    "描画を綺麗にするために10桁で丸めました。\n",
    "\n",
    "さてこの値が正しいかを確認する方法ですが、$P$の行列（逆行列）をもう一度かけて値を代入した時にヒルベルト行列になっていれば良いはずです。\n",
    "\n",
    "まずは行列$P$を上記の対角行列にかけます。\n",
    "\n",
    "この際、下のセル内のpは代数なので出力結果には$\\lambda_{ij}$が残ります。"
   ]
  },
  {
   "cell_type": "code",
   "execution_count": 32,
   "id": "e8f3e6e6-fab7-483b-b199-efcf14ccb651",
   "metadata": {},
   "outputs": [
    {
     "data": {
      "text/latex": [
       "$\\displaystyle P^{-1}\\left(PH P^{-1}\\right)P = \\left[\\begin{matrix}- \\frac{0.0328707271 \\left(\\lambda_{1 1} - \\lambda_{2 2} - \\sqrt{\\lambda_{1 1}^{2} - 2 \\lambda_{1 1} \\lambda_{2 2} + 4 \\lambda_{1 2} \\lambda_{2 1} + \\lambda_{2 2}^{2}}\\right)}{\\sqrt{\\lambda_{1 1}^{2} - 2 \\lambda_{1 1} \\lambda_{2 2} + 4 \\lambda_{1 2} \\lambda_{2 1} + \\lambda_{2 2}^{2}}} + \\frac{0.6337959396 \\left(\\lambda_{1 1} - \\lambda_{2 2} + \\sqrt{\\lambda_{1 1}^{2} - 2 \\lambda_{1 1} \\lambda_{2 2} + 4 \\lambda_{1 2} \\lambda_{2 1} + \\lambda_{2 2}^{2}}\\right)}{\\sqrt{\\lambda_{1 1}^{2} - 2 \\lambda_{1 1} \\lambda_{2 2} + 4 \\lambda_{1 2} \\lambda_{2 1} + \\lambda_{2 2}^{2}}} & \\frac{0.3168979698 \\left(- \\lambda_{1 1} + \\lambda_{2 2} + \\sqrt{\\lambda_{1 1}^{2} - 2 \\lambda_{1 1} \\lambda_{2 2} + 4 \\lambda_{1 2} \\lambda_{2 1} + \\lambda_{2 2}^{2}}\\right) \\left(\\lambda_{1 1} - \\lambda_{2 2} + \\sqrt{\\lambda_{1 1}^{2} - 2 \\lambda_{1 1} \\lambda_{2 2} + 4 \\lambda_{1 2} \\lambda_{2 1} + \\lambda_{2 2}^{2}}\\right)}{\\lambda_{2 1} \\sqrt{\\lambda_{1 1}^{2} - 2 \\lambda_{1 1} \\lambda_{2 2} + 4 \\lambda_{1 2} \\lambda_{2 1} + \\lambda_{2 2}^{2}}} + \\frac{0.0164353635 \\left(\\lambda_{1 1} - \\lambda_{2 2} - \\sqrt{\\lambda_{1 1}^{2} - 2 \\lambda_{1 1} \\lambda_{2 2} + 4 \\lambda_{1 2} \\lambda_{2 1} + \\lambda_{2 2}^{2}}\\right) \\left(\\lambda_{1 1} - \\lambda_{2 2} + \\sqrt{\\lambda_{1 1}^{2} - 2 \\lambda_{1 1} \\lambda_{2 2} + 4 \\lambda_{1 2} \\lambda_{2 1} + \\lambda_{2 2}^{2}}\\right)}{\\lambda_{2 1} \\sqrt{\\lambda_{1 1}^{2} - 2 \\lambda_{1 1} \\lambda_{2 2} + 4 \\lambda_{1 2} \\lambda_{2 1} + \\lambda_{2 2}^{2}}}\\\\\\frac{1.2018504251 \\lambda_{2 1}}{\\sqrt{\\lambda_{1 1}^{2} - 2 \\lambda_{1 1} \\lambda_{2 2} + 4 \\lambda_{1 2} \\lambda_{2 1} + \\lambda_{2 2}^{2}}} & \\frac{0.6337959396 \\left(- \\lambda_{1 1} + \\lambda_{2 2} + \\sqrt{\\lambda_{1 1}^{2} - 2 \\lambda_{1 1} \\lambda_{2 2} + 4 \\lambda_{1 2} \\lambda_{2 1} + \\lambda_{2 2}^{2}}\\right)}{\\sqrt{\\lambda_{1 1}^{2} - 2 \\lambda_{1 1} \\lambda_{2 2} + 4 \\lambda_{1 2} \\lambda_{2 1} + \\lambda_{2 2}^{2}}} + \\frac{0.0328707271 \\left(\\lambda_{1 1} - \\lambda_{2 2} + \\sqrt{\\lambda_{1 1}^{2} - 2 \\lambda_{1 1} \\lambda_{2 2} + 4 \\lambda_{1 2} \\lambda_{2 1} + \\lambda_{2 2}^{2}}\\right)}{\\sqrt{\\lambda_{1 1}^{2} - 2 \\lambda_{1 1} \\lambda_{2 2} + 4 \\lambda_{1 2} \\lambda_{2 1} + \\lambda_{2 2}^{2}}}\\end{matrix}\\right]$"
      ],
      "text/plain": [
       "<IPython.core.display.Math object>"
      ]
     },
     "metadata": {},
     "output_type": "display_data"
    }
   ],
   "source": [
    "pphpp = p * php * p**-1\n",
    "alg_calc.print_external_input( 'P^{-1}\\\\left(PH P^{-1}\\\\right)P', pphpp )"
   ]
  },
  {
   "cell_type": "markdown",
   "id": "8d649a95-04c4-4dfa-bbde-a23635b8632a",
   "metadata": {},
   "source": [
    "よってもう一度、代入して分数の形で出力してみます。"
   ]
  },
  {
   "cell_type": "code",
   "execution_count": 33,
   "id": "72e4e22e-d21b-41ff-a607-db2d6d645859",
   "metadata": {},
   "outputs": [
    {
     "data": {
      "text/latex": [
       "$\\displaystyle H = \\left[\\begin{matrix}1 & \\frac{1}{2}\\\\\\frac{1}{2} & \\frac{1}{3}\\end{matrix}\\right]$"
      ],
      "text/plain": [
       "<IPython.core.display.Math object>"
      ]
     },
     "metadata": {},
     "output_type": "display_data"
    }
   ],
   "source": [
    "alg_calc.set_right_hand_side( pphpp )\n",
    "alg_calc.assign_values( l, l_np, None, True )\n",
    "h_sy = alg_calc.get_right_hand_side()\n",
    "alg_calc.set_formula( \"H\", sympy.nsimplify( h_sy, rational=True ) )\n",
    "alg_calc.print_formula()"
   ]
  },
  {
   "cell_type": "markdown",
   "id": "3757b312-3d68-4f51-b48a-ac2336502b46",
   "metadata": {},
   "source": [
    "非常に良い結果を得ました。"
   ]
  }
 ],
 "metadata": {
  "kernelspec": {
   "display_name": "Python 3 (ipykernel)",
   "language": "python",
   "name": "python3"
  },
  "language_info": {
   "codemirror_mode": {
    "name": "ipython",
    "version": 3
   },
   "file_extension": ".py",
   "mimetype": "text/x-python",
   "name": "python",
   "nbconvert_exporter": "python",
   "pygments_lexer": "ipython3",
   "version": "3.12.3"
  }
 },
 "nbformat": 4,
 "nbformat_minor": 5
}
