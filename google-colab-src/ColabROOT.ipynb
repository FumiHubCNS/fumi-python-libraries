{
  "nbformat": 4,
  "nbformat_minor": 0,
  "metadata": {
    "colab": {
      "provenance": []
    },
    "kernelspec": {
      "name": "python3",
      "display_name": "Python 3"
    },
    "language_info": {
      "name": "python"
    }
  },
  "cells": [
    {
      "cell_type": "code",
      "source": [
        "!python --version\n",
        "!uname -a\n",
        "!cat /etc/os-release\n",
        "!gcc --version"
      ],
      "metadata": {
        "colab": {
          "base_uri": "https://localhost:8080/"
        },
        "id": "2aBEydFR45P-",
        "outputId": "a08ecd97-5370-4161-fec5-594b9d5d6388"
      },
      "execution_count": 1,
      "outputs": [
        {
          "output_type": "stream",
          "name": "stdout",
          "text": [
            "Python 3.10.12\n",
            "Linux c95b572d138b 6.1.85+ #1 SMP PREEMPT_DYNAMIC Tue Jun 18 14:18:04 UTC 2024 x86_64 x86_64 x86_64 GNU/Linux\n",
            "PRETTY_NAME=\"Ubuntu 22.04.3 LTS\"\n",
            "NAME=\"Ubuntu\"\n",
            "VERSION_ID=\"22.04\"\n",
            "VERSION=\"22.04.3 LTS (Jammy Jellyfish)\"\n",
            "VERSION_CODENAME=jammy\n",
            "ID=ubuntu\n",
            "ID_LIKE=debian\n",
            "HOME_URL=\"https://www.ubuntu.com/\"\n",
            "SUPPORT_URL=\"https://help.ubuntu.com/\"\n",
            "BUG_REPORT_URL=\"https://bugs.launchpad.net/ubuntu/\"\n",
            "PRIVACY_POLICY_URL=\"https://www.ubuntu.com/legal/terms-and-policies/privacy-policy\"\n",
            "UBUNTU_CODENAME=jammy\n",
            "gcc (Ubuntu 11.4.0-1ubuntu1~22.04) 11.4.0\n",
            "Copyright (C) 2021 Free Software Foundation, Inc.\n",
            "This is free software; see the source for copying conditions.  There is NO\n",
            "warranty; not even for MERCHANTABILITY or FITNESS FOR A PARTICULAR PURPOSE.\n",
            "\n"
          ]
        }
      ]
    },
    {
      "cell_type": "code",
      "source": [
        "!sudo apt install python3.8\n",
        "!sudo update-alternatives --install /usr/bin/python3 python3 /usr/bin/python3.8 1\n",
        "!sudo apt install libtbb2\n",
        "!sudo apt install libssl-dev\n",
        "\n",
        "!python --version"
      ],
      "metadata": {
        "colab": {
          "base_uri": "https://localhost:8080/"
        },
        "id": "qp2vBbCgwGUy",
        "outputId": "522bce51-6e5a-4301-c31d-042e98413ef8"
      },
      "execution_count": 2,
      "outputs": [
        {
          "output_type": "stream",
          "name": "stdout",
          "text": [
            "Reading package lists... Done\n",
            "Building dependency tree... Done\n",
            "Reading state information... Done\n",
            "The following additional packages will be installed:\n",
            "  libpython3.8-minimal libpython3.8-stdlib mailcap mime-support\n",
            "  python3.8-minimal\n",
            "Suggested packages:\n",
            "  python3.8-venv binfmt-support\n",
            "The following NEW packages will be installed:\n",
            "  libpython3.8-minimal libpython3.8-stdlib mailcap mime-support python3.8\n",
            "  python3.8-minimal\n",
            "0 upgraded, 6 newly installed, 0 to remove and 45 not upgraded.\n",
            "Need to get 5,103 kB of archives.\n",
            "After this operation, 18.9 MB of additional disk space will be used.\n",
            "Get:1 http://archive.ubuntu.com/ubuntu jammy/main amd64 mailcap all 3.70+nmu1ubuntu1 [23.8 kB]\n",
            "Get:2 http://archive.ubuntu.com/ubuntu jammy/main amd64 mime-support all 3.66 [3,696 B]\n",
            "Get:3 https://ppa.launchpadcontent.net/deadsnakes/ppa/ubuntu jammy/main amd64 libpython3.8-minimal amd64 3.8.19-1+jammy1 [794 kB]\n",
            "Get:4 https://ppa.launchpadcontent.net/deadsnakes/ppa/ubuntu jammy/main amd64 python3.8-minimal amd64 3.8.19-1+jammy1 [2,025 kB]\n",
            "Get:5 https://ppa.launchpadcontent.net/deadsnakes/ppa/ubuntu jammy/main amd64 libpython3.8-stdlib amd64 3.8.19-1+jammy1 [1,817 kB]\n",
            "Get:6 https://ppa.launchpadcontent.net/deadsnakes/ppa/ubuntu jammy/main amd64 python3.8 amd64 3.8.19-1+jammy1 [439 kB]\n",
            "Fetched 5,103 kB in 1s (4,375 kB/s)\n",
            "debconf: unable to initialize frontend: Dialog\n",
            "debconf: (No usable dialog-like program is installed, so the dialog based frontend cannot be used. at /usr/share/perl5/Debconf/FrontEnd/Dialog.pm line 78, <> line 6.)\n",
            "debconf: falling back to frontend: Readline\n",
            "debconf: unable to initialize frontend: Readline\n",
            "debconf: (This frontend requires a controlling tty.)\n",
            "debconf: falling back to frontend: Teletype\n",
            "dpkg-preconfigure: unable to re-open stdin: \n",
            "Selecting previously unselected package libpython3.8-minimal:amd64.\n",
            "(Reading database ... 121925 files and directories currently installed.)\n",
            "Preparing to unpack .../0-libpython3.8-minimal_3.8.19-1+jammy1_amd64.deb ...\n",
            "Unpacking libpython3.8-minimal:amd64 (3.8.19-1+jammy1) ...\n",
            "Selecting previously unselected package python3.8-minimal.\n",
            "Preparing to unpack .../1-python3.8-minimal_3.8.19-1+jammy1_amd64.deb ...\n",
            "Unpacking python3.8-minimal (3.8.19-1+jammy1) ...\n",
            "Selecting previously unselected package mailcap.\n",
            "Preparing to unpack .../2-mailcap_3.70+nmu1ubuntu1_all.deb ...\n",
            "Unpacking mailcap (3.70+nmu1ubuntu1) ...\n",
            "Selecting previously unselected package mime-support.\n",
            "Preparing to unpack .../3-mime-support_3.66_all.deb ...\n",
            "Unpacking mime-support (3.66) ...\n",
            "Selecting previously unselected package libpython3.8-stdlib:amd64.\n",
            "Preparing to unpack .../4-libpython3.8-stdlib_3.8.19-1+jammy1_amd64.deb ...\n",
            "Unpacking libpython3.8-stdlib:amd64 (3.8.19-1+jammy1) ...\n",
            "Selecting previously unselected package python3.8.\n",
            "Preparing to unpack .../5-python3.8_3.8.19-1+jammy1_amd64.deb ...\n",
            "Unpacking python3.8 (3.8.19-1+jammy1) ...\n",
            "Setting up libpython3.8-minimal:amd64 (3.8.19-1+jammy1) ...\n",
            "Setting up python3.8-minimal (3.8.19-1+jammy1) ...\n",
            "Setting up mailcap (3.70+nmu1ubuntu1) ...\n",
            "Setting up mime-support (3.66) ...\n",
            "Setting up libpython3.8-stdlib:amd64 (3.8.19-1+jammy1) ...\n",
            "Setting up python3.8 (3.8.19-1+jammy1) ...\n",
            "Processing triggers for man-db (2.10.2-1) ...\n",
            "update-alternatives: using /usr/bin/python3.8 to provide /usr/bin/python3 (python3) in auto mode\n",
            "Reading package lists... Done\n",
            "Building dependency tree... Done\n",
            "Reading state information... Done\n",
            "The following NEW packages will be installed:\n",
            "  libtbb2\n",
            "0 upgraded, 1 newly installed, 0 to remove and 45 not upgraded.\n",
            "Need to get 101 kB of archives.\n",
            "After this operation, 313 kB of additional disk space will be used.\n",
            "Get:1 http://archive.ubuntu.com/ubuntu jammy/universe amd64 libtbb2 amd64 2020.3-1ubuntu3 [101 kB]\n",
            "Fetched 101 kB in 0s (1,224 kB/s)\n",
            "debconf: unable to initialize frontend: Dialog\n",
            "debconf: (No usable dialog-like program is installed, so the dialog based frontend cannot be used. at /usr/share/perl5/Debconf/FrontEnd/Dialog.pm line 78, <> line 1.)\n",
            "debconf: falling back to frontend: Readline\n",
            "debconf: unable to initialize frontend: Readline\n",
            "debconf: (This frontend requires a controlling tty.)\n",
            "debconf: falling back to frontend: Teletype\n",
            "dpkg-preconfigure: unable to re-open stdin: \n",
            "Selecting previously unselected package libtbb2:amd64.\n",
            "(Reading database ... 122576 files and directories currently installed.)\n",
            "Preparing to unpack .../libtbb2_2020.3-1ubuntu3_amd64.deb ...\n",
            "Unpacking libtbb2:amd64 (2020.3-1ubuntu3) ...\n",
            "Setting up libtbb2:amd64 (2020.3-1ubuntu3) ...\n",
            "Processing triggers for libc-bin (2.35-0ubuntu3.4) ...\n",
            "/sbin/ldconfig.real: /usr/local/lib/libtbb.so.12 is not a symbolic link\n",
            "\n",
            "/sbin/ldconfig.real: /usr/local/lib/libtbbbind_2_5.so.3 is not a symbolic link\n",
            "\n",
            "/sbin/ldconfig.real: /usr/local/lib/libtbbbind_2_0.so.3 is not a symbolic link\n",
            "\n",
            "/sbin/ldconfig.real: /usr/local/lib/libtbbmalloc.so.2 is not a symbolic link\n",
            "\n",
            "/sbin/ldconfig.real: /usr/local/lib/libtbbmalloc_proxy.so.2 is not a symbolic link\n",
            "\n",
            "/sbin/ldconfig.real: /usr/local/lib/libtbbbind.so.3 is not a symbolic link\n",
            "\n",
            "Reading package lists... Done\n",
            "Building dependency tree... Done\n",
            "Reading state information... Done\n",
            "libssl-dev is already the newest version (3.0.2-0ubuntu1.16).\n",
            "0 upgraded, 0 newly installed, 0 to remove and 45 not upgraded.\n",
            "Python 3.8.19\n"
          ]
        }
      ]
    },
    {
      "cell_type": "code",
      "source": [
        "!mkdir -p APPS\n",
        "!pwd\n",
        "!cd APPS && wget https://root.cern/download/root_v6.26.14.Linux-ubuntu22-x86_64-gcc11.4.tar.gz\n",
        "!cd APPS && tar -xzf root_v6.26.14.Linux-ubuntu22-x86_64-gcc11.4.tar.gz\n",
        "!ls APPS/root/bin/thisroot.sh\n",
        "!source APPS/root/bin/thisroot.sh\n",
        "!echo $ROOTSYS\n",
        "!echo $PYTHONPATH"
      ],
      "metadata": {
        "colab": {
          "base_uri": "https://localhost:8080/"
        },
        "id": "3lUJGFX4zVQJ",
        "outputId": "9df26464-c2c4-4c25-bb64-d92a57be86ee"
      },
      "execution_count": 3,
      "outputs": [
        {
          "output_type": "stream",
          "name": "stdout",
          "text": [
            "/content\n",
            "--2024-07-03 01:31:29--  https://root.cern/download/root_v6.26.14.Linux-ubuntu22-x86_64-gcc11.4.tar.gz\n",
            "Resolving root.cern (root.cern)... 188.184.49.144, 2001:1458:d00:55::100:c\n",
            "Connecting to root.cern (root.cern)|188.184.49.144|:443... connected.\n",
            "HTTP request sent, awaiting response... 200 OK\n",
            "Length: 281400959 (268M) [application/x-gzip]\n",
            "Saving to: ‘root_v6.26.14.Linux-ubuntu22-x86_64-gcc11.4.tar.gz’\n",
            "\n",
            "root_v6.26.14.Linux 100%[===================>] 268.36M  32.2MB/s    in 9.3s    \n",
            "\n",
            "2024-07-03 01:31:39 (28.9 MB/s) - ‘root_v6.26.14.Linux-ubuntu22-x86_64-gcc11.4.tar.gz’ saved [281400959/281400959]\n",
            "\n",
            "APPS/root/bin/thisroot.sh\n",
            "\n",
            "/env/python\n"
          ]
        }
      ]
    },
    {
      "cell_type": "code",
      "source": [
        "import sys\n",
        "import ctypes\n",
        "\n",
        "sys.path.append(\"/content/APPS/root/lib\")\n",
        "\n",
        "ctypes.cdll.LoadLibrary('/content/APPS/root/lib/libCore.so')\n",
        "ctypes.cdll.LoadLibrary('/content/APPS/root/lib/libThread.so')\n",
        "ctypes.cdll.LoadLibrary('/content/APPS/root/lib/libImt.so')\n",
        "ctypes.cdll.LoadLibrary('/content/APPS/root/lib/libRIO.so')\n",
        "ctypes.cdll.LoadLibrary('/content/APPS/root/lib/libNet.so')\n",
        "ctypes.cdll.LoadLibrary('/content/APPS/root/lib/libTree.so')\n",
        "ctypes.cdll.LoadLibrary('/content/APPS/root/lib/libMathCore.so')\n",
        "ctypes.cdll.LoadLibrary('/content/APPS/root/lib/libMatrix.so')\n",
        "ctypes.cdll.LoadLibrary('/content/APPS/root/lib/libHist.so')\n",
        "ctypes.cdll.LoadLibrary('/content/APPS/root/lib/libGraf.so')"
      ],
      "metadata": {
        "id": "C7k1FwOR0UIL",
        "colab": {
          "base_uri": "https://localhost:8080/"
        },
        "outputId": "bbdebe2f-9e41-42d2-fe50-a99d975bd1c5"
      },
      "execution_count": 4,
      "outputs": [
        {
          "output_type": "execute_result",
          "data": {
            "text/plain": [
              "<CDLL '/content/APPS/root/lib/libGraf.so', handle 5d1398642700 at 0x7c9ce9fad600>"
            ]
          },
          "metadata": {},
          "execution_count": 4
        }
      ]
    },
    {
      "cell_type": "code",
      "source": [
        "import requests\n",
        "import ROOT\n",
        "import os"
      ],
      "metadata": {
        "colab": {
          "base_uri": "https://localhost:8080/"
        },
        "id": "SJjiLm_wI1ee",
        "outputId": "be5a22cb-e970-4936-bbb5-e6c316f888c1"
      },
      "execution_count": 5,
      "outputs": [
        {
          "output_type": "stream",
          "name": "stdout",
          "text": [
            "Welcome to JupyROOT 6.26/14\n"
          ]
        }
      ]
    },
    {
      "cell_type": "code",
      "source": [
        "def download_file(url, local_filename):\n",
        "    response = requests.get(url)\n",
        "    with open(local_filename, 'wb') as f:\n",
        "        f.write(response.content)\n",
        "    print(f\"Downloaded {local_filename}\")"
      ],
      "metadata": {
        "id": "dorS9yAX0MGf"
      },
      "execution_count": 6,
      "outputs": []
    },
    {
      "cell_type": "code",
      "source": [
        "def setstyle():\n",
        "    ROOT.gROOT.SetStyle(\"Plain\")\n",
        "    ROOT.gStyle.SetTitleAlign(23)\n",
        "    ROOT.gStyle.SetTitleX(0.54)\n",
        "    ROOT.gStyle.SetTitleY(0.97)\n",
        "    ROOT.gStyle.SetTitleBorderSize(0)\n",
        "    ROOT.gStyle.SetTitleFillColor(0)\n",
        "    ROOT.gStyle.SetTitleColor(1)\n",
        "    ROOT.gStyle.SetLabelFont(132, \"xyz\")\n",
        "    ROOT.gStyle.SetTitleFont(132, \"xyz\")\n",
        "    ROOT.gStyle.SetTitleFont(132, \"\")\n",
        "    ROOT.gStyle.SetTextFont(132)\n",
        "    ROOT.gStyle.SetStatFont(132)\n",
        "    ROOT.gStyle.SetOptStat(0)\n",
        "    ROOT.gStyle.SetNdivisions(510, \"xyz\")\n",
        "    ROOT.gStyle.SetNdivisions(505, \"z\")\n",
        "    ROOT.gStyle.SetLabelSize(0.075, \"xyz\")\n",
        "    ROOT.gStyle.SetTitleSize(0.075, \"xyz\")\n",
        "    ROOT.gStyle.SetTitleSize(0.075, \"\")\n",
        "    ROOT.gStyle.SetPadTopMargin(0.15)\n",
        "    ROOT.gStyle.SetPadRightMargin(0.10)\n",
        "    ROOT.gStyle.SetPadLeftMargin(0.15)\n",
        "    ROOT.gStyle.SetPadBottomMargin(0.18)\n",
        "    ROOT.gStyle.SetOptLogz(0)\n",
        "\n",
        "def plot_first2plus():\n",
        "    setstyle()\n",
        "    c1 = ROOT.TCanvas(\"c1\", \"c1\", 500, 400)\n",
        "    h = ROOT.TH2D(\"h\", \"2^{+}_{1} energies (MeV)\", 81, -1., 161., 56, -1., 111.)\n",
        "\n",
        "    with open(\"first2plus.dat\") as f:\n",
        "        for line in f:\n",
        "            z, n, e = map(float, line.split())\n",
        "            h.Fill(n, z, e / 1000.0)\n",
        "\n",
        "    h.SetMaximum(4)\n",
        "    h.GetXaxis().SetTitle(\"Neutron number #it{N}\")\n",
        "    h.GetYaxis().SetTitle(\"Proton number #it{Z}\")\n",
        "    h.GetXaxis().CenterTitle()\n",
        "    h.GetYaxis().CenterTitle()\n",
        "    h.Draw(\"colz\")\n",
        "\n",
        "    Tl = ROOT.TLatex()\n",
        "    Tl.SetTextAlign(12)\n",
        "    Tl.SetNDC()\n",
        "    Tl.SetTextSize(0.075)\n",
        "    Tl.DrawLatex(0.20, 0.80, \"#it{Z}: even\")\n",
        "    Tl.DrawLatex(0.20, 0.73, \"#it{N}: even\")\n",
        "\n",
        "    return h, c1"
      ],
      "metadata": {
        "id": "WgGUtnpZ9_D0"
      },
      "execution_count": 7,
      "outputs": []
    },
    {
      "cell_type": "code",
      "source": [
        "url_dat = \"https://www.rcnp.osaka-u.ac.jp/~kobayash/be_koba/cgi-bin/moin.cgi/first2plus.dat\"\n",
        "local_filename_dat = \"first2plus.dat\"\n",
        "download_file(url_dat, local_filename_dat)\n",
        "\n",
        "h,c  = plot_first2plus()\n",
        "c.Draw()\n",
        "h.Draw(\"colz\")"
      ],
      "metadata": {
        "colab": {
          "base_uri": "https://localhost:8080/",
          "height": 406
        },
        "id": "iN3UBrdo-CM0",
        "outputId": "c0fdb7d9-ebdf-4608-d3ee-6562f4da1952"
      },
      "execution_count": 8,
      "outputs": [
        {
          "output_type": "stream",
          "name": "stdout",
          "text": [
            "Downloaded first2plus.dat\n"
          ]
        },
        {
          "output_type": "display_data",
          "data": {
            "image/png": "[encoded data removed]",
            "text/plain": [
              "<IPython.core.display.Image object>"
            ]
          },
          "metadata": {}
        }
      ]
    }
  ]
}