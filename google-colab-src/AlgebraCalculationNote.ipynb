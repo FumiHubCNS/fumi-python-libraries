{
 "cells": [
  {
   "cell_type": "markdown",
   "metadata": {
    "id": "zG0kxVz5m8OR"
   },
   "source": [
    "# ソースコード"
   ]
  },
  {
   "cell_type": "code",
   "execution_count": 1,
   "metadata": {
    "id": "p53w1vSKHjbA"
   },
   "outputs": [],
   "source": [
    "import numpy\n",
    "import sympy\n",
    "from IPython.display import Math\n",
    "from IPython.display import display\n",
    "import copy\n",
    "import matplotlib.pyplot as plt"
   ]
  },
  {
   "cell_type": "markdown",
   "metadata": {
    "id": "Fm_p-MdZm98s"
   },
   "source": [
    "## 代数計算用基底クラス"
   ]
  },
  {
   "cell_type": "code",
   "execution_count": 2,
   "metadata": {
    "id": "LlKP1F6Y4sF3"
   },
   "outputs": [],
   "source": [
    "class BasicAlgebraicCalculationClass():\n",
    "\n",
    "  def __init__(self, input_variable_list = []):\n",
    "    '''\n",
    "    Initialze object.\n",
    "    Variables can be defined at __init__. In that case, insert a list of variables as first argument.\n",
    "    '''\n",
    "    self.left_hand_side = 'f(x)'\n",
    "    self.right_hand_side = sympy.symbols(\"x\")\n",
    "    self.matrix_symbol = None\n",
    "    self.matrix_element_symbols = None\n",
    "    self.expanded_right_hand_side = None\n",
    "    self.integrated_left_hand_side = None\n",
    "    self.integrated_right_hand_side = None\n",
    "    self.differentiated_left_hand_side = None\n",
    "    self.differentiated_right_hand_side = None\n",
    "    self.variable_list = None\n",
    "    self.variable_symbols = None\n",
    "    self.latex_paste_mode = False\n",
    "    if len(input_variable_list) != 0:\n",
    "      self.variable_list = input_variable_list\n",
    "      self.variable_symbols = input_variable_list\n",
    "      self.set_variable_symbols()\n",
    "\n",
    "  def copy_class(self):\n",
    "    '''\n",
    "    Copy object\n",
    "    '''\n",
    "    return copy.copy(self)\n",
    "\n",
    "  def select_print_mode(self, Bool):\n",
    "    '''\n",
    "    Select Print Mode (Default : False)\n",
    "      False : Print with IPython.Display (Output is in Latex format if a jupyer notebook-based application is used.)\n",
    "      True :　Print with print function(The output is in Latex formula notation.　Pasteable in overleaf or Cloud latex.)\n",
    "    '''\n",
    "    self.latex_paste_mode = Bool\n",
    "\n",
    "  def set_formula(self, lhs, rhs):\n",
    "    '''\n",
    "    Assign left hand side and right hand side\n",
    "    '''\n",
    "    self.left_hand_side = lhs\n",
    "    self.right_hand_side = rhs\n",
    "\n",
    "  def set_left_hand_side(self, lhs):\n",
    "    '''\n",
    "    Assign left hand side\n",
    "    '''\n",
    "    self.left_hand_side = lhs\n",
    "\n",
    "  def set_right_hand_side(self, rhs):\n",
    "    '''\n",
    "    Assign right hand side\n",
    "    '''\n",
    "    self.right_hand_side = rhs\n",
    "\n",
    "  def set_variable_symbols(self, input_list=None):\n",
    "    '''\n",
    "    Registor the variables created by sympy.symbol to this class.\n",
    "    It is used for differentiating and integrating.\n",
    "    '''\n",
    "    self.variable_symbols = []\n",
    "    if input_list is not None:\n",
    "      self.variable_list = input_list\n",
    "    for i in range( len( self.variable_list ) ):\n",
    "      self.variable_symbols.append( sympy.symbols( self.variable_list[i] ) )\n",
    "\n",
    "  def get_formula(self):\n",
    "    '''\n",
    "    Return left hand side and right hand side\n",
    "    '''\n",
    "    return self.left_hand_side, self.right_hand_side\n",
    "\n",
    "  def get_left_hand_side(self):\n",
    "    '''\n",
    "    Return left hand side\n",
    "    '''\n",
    "    return self.left_hand_side\n",
    "\n",
    "  def get_right_hand_side(self):\n",
    "    '''\n",
    "    Return right hand side\n",
    "    '''\n",
    "    return self.right_hand_side\n",
    "\n",
    "  def create_variables(self, input_variable_list):\n",
    "    '''\n",
    "    Create variables as algebra using sympy.symbols\n",
    "      input_variable_list : list of variables.\n",
    "    '''\n",
    "    self.created_variable_symbols = []\n",
    "    for i in range( len( input_variable_list ) ):\n",
    "      self.created_variable_symbols.append( sympy.symbols( input_variable_list[i] ) )\n",
    "\n",
    "    self.set_variable_symbols( input_variable_list )\n",
    "    return self.created_variable_symbols\n",
    "\n",
    "  def assign_values(self, symbol, values, round_digits=None ):\n",
    "    '''\n",
    "    Assign and round variables.\n",
    "      symbol : list of slgebaric variables\n",
    "      values : list of numerical variables\n",
    "      round_digits : number of digits\n",
    "    '''\n",
    "    self.variable_values_args = sympy.lambdify( symbol, self.right_hand_side, \"numpy\" )\n",
    "    if round_digits is not None:\n",
    "        for i in range( len( values ) ):\n",
    "            values[i] = round( values[i], int(round_digits) )\n",
    "    self.variable_values = self.variable_values_args( *values )\n",
    "\n",
    "  def get_variable_symbols(self):\n",
    "    '''\n",
    "    Return registered symbols\n",
    "    '''\n",
    "    return self.variable_symbols\n",
    "\n",
    "  def get_variable_values(self):\n",
    "    '''\n",
    "    Return assigned values\n",
    "    '''\n",
    "    return self.variable_values\n",
    "\n",
    "  def round_right_hand_side(self, round_digits):\n",
    "    '''\n",
    "    Improve readability when the formula will be dumped since the default number of digits displayed is very large.\n",
    "    The rounded function is overridden by the original function.\n",
    "    Therefore, it is recommended to use this function only at the end of the function output.\n",
    "    In addition, the problem of +1.0 and -1.0 being displayed after rounding has been eliminated.\n",
    "    (+1.0 and -1.0 when rounding with zero digits forces the assignment of +1 and -1.)\n",
    "    '''\n",
    "    replacements = {}\n",
    "    for n in self.right_hand_side.atoms( sympy.Number ):\n",
    "      val = round( n, round_digits )\n",
    "      if abs( round( val, 0 ) ) == 1:\n",
    "        replacements[n] = int( round( val, 0 ) )\n",
    "      else:\n",
    "        replacements[n] = round( n, round_digits )\n",
    "    self.right_hand_side = self.right_hand_side.xreplace( replacements )\n",
    "    return self.right_hand_side\n",
    "\n",
    "  def create_martix_symbols(self, matrixsymbol, row, col, elementsymbol=None):\n",
    "    '''\n",
    "    Create matrix as algebra\n",
    "      matrixsymbol : variable that represents the entire matrix. (recommend to use capital letter)\n",
    "      row :　maximum row number\n",
    "      col : maximum column number\n",
    "      elementsymbol : symbol of each elements (if elementsymbol is none, lowercase letter is adpoted)\n",
    "    '''\n",
    "    self.matrix_symbol = []\n",
    "    self.matrix_element_symbols = []\n",
    "    matrix = []\n",
    "    for i in range( row ):\n",
    "      rowindex = \"_\"+str(i+1)\n",
    "      row = []\n",
    "      for j in range( col ):\n",
    "        colindex = \"_\" + str(j+1)\n",
    "        elements = None\n",
    "        if elementsymbol is None:\n",
    "          elements = matrixsymbol.lower() + rowindex+colindex\n",
    "        else :\n",
    "          elements = elementsymbol + rowindex + colindex\n",
    "        self.matrix_element_symbols.append( sympy.symbols( elements ) )\n",
    "        row.append( elements )\n",
    "      matrix.append( row )\n",
    "    self.matrix_symbol = sympy.Matrix( matrix )\n",
    "    return self.matrix_symbol, self.matrix_element_symbols\n",
    "\n",
    "  def print_formula(self):\n",
    "    '''\n",
    "    Dump formula.\n",
    "    Select print mode in self.select_print_mode()\n",
    "      False : Print with IPython.Display (Output is in Latex format if a jupyer notebook-based application is used.)\n",
    "      True :　Print with print function(The output is in Latex formula notation.　Pasteable in overleaf or Cloud latex.)\n",
    "    '''\n",
    "    if not self.latex_paste_mode:\n",
    "      display( Math( f'{self.left_hand_side} = {sympy.latex( self.right_hand_side )}' ) )\n",
    "    elif self.latex_paste_mode:\n",
    "      print(  self.left_hand_side , \"=\", sympy.latex( self.right_hand_side ), \"\\\\\\\\\" )\n",
    "\n",
    "  def print_external_input(self, external_input_lhs=None, external_input_rhs=None):\n",
    "    '''\n",
    "    Dump external input\n",
    "    Select print mode in self.select_print_mode()\n",
    "      False : Print with IPython.Display (Output is in Latex format if a jupyer notebook-based application is used.)\n",
    "      True :　Print with print function(The output is in Latex formula notation.　Pasteable in overleaf or Cloud latex.)\n",
    "    '''\n",
    "    dum_lhs = 'f'\n",
    "    if external_input_lhs is not None:\n",
    "      dum_lhs = external_input_lhs\n",
    "    if external_input_rhs is not None:\n",
    "      if not self.latex_paste_mode:\n",
    "        display( Math( f'{dum_lhs} = {sympy.latex( external_input_rhs )}' ) )\n",
    "      elif self.latex_paste_mode :\n",
    "        print( dum_lhs, \" = \", sympy.latex( external_input_rhs ), \"\\\\\\\\\" )\n",
    "\n",
    "  def expand_formula(self, assign_flag=False):\n",
    "    '''\n",
    "    Expand formula.\n",
    "      assign_flag : flag to update original function. (default : no update)\n",
    "    '''\n",
    "    self.expanded_right_hand_side = self.right_hand_side.expand()\n",
    "    if not self.latex_paste_mode:\n",
    "      display( Math( f'{self.left_hand_side} = {sympy.latex( self.expanded_right_hand_side )}' ) )\n",
    "    elif self.latex_paste_mode:\n",
    "      print( self.left_hand_side , \"=\", sympy.latex( self.expanded_right_hand_side ), \"\\\\\\\\\"  )\n",
    "\n",
    "    if True:\n",
    "      self.right_hand_side = self.expanded_right_hand_side\n",
    "\n",
    "  def get_matrix(self, input):\n",
    "    '''\n",
    "    Return matrix\n",
    "    '''\n",
    "    return sympy.Matrix( input )\n",
    "\n",
    "  def indefinite_integral(self, val, update_flag=False):\n",
    "    '''\n",
    "    Execute indefinite integral with variable called in 2nd argument.\n",
    "    '''\n",
    "    self.integrated_left_hand_side = '\\\\int ' + self.left_hand_side + 'd' + str(val)\n",
    "    self.integrated_right_hand_side = sympy.integrate( self.right_hand_side, val )\n",
    "    if update_flag :\n",
    "      self.left_hand_side = self.integrated_left_hand_side\n",
    "      self.right_hand_side = self.integrated_right_hand_side\n",
    "    return self.integrated_right_hand_side\n",
    "\n",
    "  def definite_integral(self, val, min, max, update_flag=False):\n",
    "    '''\n",
    "    Execute definite integral with variable called in 2nd argument from min(3rd argument) to max(4th argument).\n",
    "    '''\n",
    "    self.integrated_left_hand_side = '\\\\int_{' + str(min) + '}^{' + str(max) + '}' + self.left_hand_side + 'd' + str(val)\n",
    "    self.integrated_right_hand_side = sympy.integrate( self.right_hand_side, ( val, min, max ) )\n",
    "    if update_flag:\n",
    "      self.left_hand_side = self.integrated_left_hand_side\n",
    "      self.right_hand_side = self.integrated_right_hand_side\n",
    "    return self.integrated_right_hand_side\n",
    "\n",
    "  def differentiate(self, val, update_flag=False):\n",
    "    '''\n",
    "    Execute differentiate with variable called in 2nd argument.\n",
    "    '''\n",
    "    self.differentiated_left_hand_side = '\\\\frac{d}{d' + str(val) + '}' + self.left_hand_side\n",
    "    self.differentiated_right_hand_side = sympy.diff( self.right_hand_side , val )\n",
    "    if update_flag:\n",
    "      self.left_hand_side = self.differentiated_left_hand_side\n",
    "      self.right_hand_side = self.differentiated_right_hand_side\n",
    "    return self.differentiated_right_hand_side\n"
   ]
  },
  {
   "cell_type": "markdown",
   "metadata": {
    "id": "asjTKN4znG_l"
   },
   "source": [
    "## 誤差伝搬計算用クラス"
   ]
  },
  {
   "cell_type": "code",
   "execution_count": 3,
   "metadata": {
    "id": "T79D3nrZMZg_"
   },
   "outputs": [],
   "source": [
    "class ErrorPropagationClass( BasicAlgebraicCalculationClass ):\n",
    "  def __init__(self):\n",
    "    super().__init__()\n",
    "    self.dfdx_symbol = None\n",
    "    self.dfdx_value = None\n",
    "    self.error_series = None\n",
    "    self.value_series = None\n",
    "    self.dfdx_value_args = None\n",
    "    self.dfdx_value = None\n",
    "    self.error_series_variable = None\n",
    "    self.error_series_variable_pow2 = None\n",
    "    self.propagated_error = None\n",
    "    self.propagated_value = None\n",
    "    self.original_function = None\n",
    "    self.latex_paste_mode = False\n",
    "\n",
    "  def copy_class(self):\n",
    "    '''\n",
    "    Copy object\n",
    "    '''\n",
    "    return copy.copy(self)\n",
    "\n",
    "  def set_value_series(self, values):\n",
    "    '''\n",
    "    '''\n",
    "    self.value_series = []\n",
    "    for i in range( len( values ) ):\n",
    "      self.value_series.append( values[i] )\n",
    "\n",
    "  def set_error_series(self, evalues):\n",
    "    '''\n",
    "    '''\n",
    "    self.error_series = []\n",
    "    for i in range( len( evalues ) ):\n",
    "      self.error_series.append( evalues[i] )\n",
    "\n",
    "  def print_each_term(self, lhs, rhs, i):\n",
    "    '''\n",
    "    '''\n",
    "    if not self.latex_paste_mode:\n",
    "      display( Math( f'\\\\frac{{\\\\partial {self.left_hand_side} }}{{ \\\\partial {self.variable_symbols[i]} }} = {sympy.latex( self.dfdx_symbol[i] )}' ) )\n",
    "    elif self.latex_paste_mode:\n",
    "      print(( '\\\\frac{{\\\\partial} f}{{\\\\partial} x_%d}=\\\\frac{{\\\\partial}%s}{{\\\\partial}%s}=%s \\\\\\\\' % (i, sympy.latex(self.left_hand_side), sympy.latex( lhs ), sympy.latex( rhs ) )))\n",
    "\n",
    "  def partial_derivative(self, dump_flag=False):\n",
    "    '''\n",
    "    '''\n",
    "    self.dfdx_symbol = []\n",
    "    if self.original_function is None:\n",
    "      self.original_function = self.right_hand_side\n",
    "    if dump_flag:\n",
    "      if not self.latex_paste_mode:\n",
    "        display( Math( r'{\\delta}f=\\sqrt{\\sum_{i=0}^{n} \\left( \\frac{{\\partial} f}{{\\partial} x_i} {\\delta}x_i \\right)^2}') )\n",
    "        for i in range( len(self.variable_symbols) ):\n",
    "          display( Math( f'x_{i} = {self.variable_symbols[i]}' ) )\n",
    "      elif self.latex_paste_mode:\n",
    "        print( f'x_{i} = {self.variable_symbols[i]}' )\n",
    "    for i in range( len( self.variable_symbols ) ):\n",
    "      self.dfdx_symbol.append( sympy.diff( self.right_hand_side, self.variable_symbols[i] ) )\n",
    "      if dump_flag:\n",
    "        self.print_each_term( self.variable_symbols[i], self.dfdx_symbol[i], i )\n",
    "\n",
    "  def calculate_erorr(self, dump_flag=False, round_digits=None):\n",
    "    '''\n",
    "    '''\n",
    "    calc_variable_symbols = self.variable_symbols\n",
    "    calc_dfdx_symbol = self.dfdx_symbol\n",
    "    calc_value_series = self.value_series\n",
    "    calc_error_series = self.error_series\n",
    "    calc_original_function = self.original_function\n",
    "\n",
    "    self.assign_values( calc_variable_symbols, calc_value_series )\n",
    "    self.set_right_hand_side( self.get_variable_values() )\n",
    "    self.propagated_value = self.get_right_hand_side()\n",
    "    self.set_right_hand_side( calc_original_function )\n",
    "\n",
    "    self.dfdx_value_args = []\n",
    "    self.dfdx_value = []\n",
    "    self.error_series_variable = []\n",
    "    self.error_series_variable_pow2 = []\n",
    "    for i in range( len( calc_variable_symbols ) ):\n",
    "      self.dfdx_value_args.append( sympy.lambdify( calc_variable_symbols, calc_dfdx_symbol[i], \"numpy\" ) )\n",
    "      self.dfdx_value.append( self.dfdx_value_args[i]( *calc_value_series ) )\n",
    "      self.error_series_variable.append( self.dfdx_value[i] * calc_error_series[i] )\n",
    "      self.error_series_variable_pow2.append( self.error_series_variable[i]**2 )\n",
    "\n",
    "    self.propagated_error = numpy.sqrt( sum( self.error_series_variable_pow2 ) )\n",
    "\n",
    "    val_print = self.propagated_value\n",
    "    err_print = self.propagated_error\n",
    "    if round_digits is not None :\n",
    "      val_print = round( self.propagated_value, round_digits )\n",
    "      err_print = round( self.propagated_error, round_digits )\n",
    "\n",
    "    if dump_flag:\n",
    "      if not self.latex_paste_mode:\n",
    "        display( Math( f'{self.left_hand_side} \\\\pm \\\\delta {self.left_hand_side} = {val_print} \\\\pm {err_print}' ) )\n",
    "      elif self.latex_paste_mode:\n",
    "        print( f'{val_print} \\\\pm {err_print} \\\\\\\\' )\n",
    "\n",
    "    return self.propagated_error, self.propagated_value"
   ]
  },
  {
   "cell_type": "markdown",
   "metadata": {
    "id": "ySeiTMHznP_N"
   },
   "source": [
    "# サンプルコード"
   ]
  },
  {
   "cell_type": "markdown",
   "metadata": {
    "id": "JwQsR022nTQy"
   },
   "source": [
    "## 代数計算のやり方"
   ]
  },
  {
   "cell_type": "code",
   "execution_count": 4,
   "metadata": {
    "colab": {
     "base_uri": "https://localhost:8080/",
     "height": 92
    },
    "id": "Z4Cc8oEK-ef1",
    "outputId": "673a579d-d500-41b8-8081-ba1bc2475158"
   },
   "outputs": [
    {
     "name": "stdout",
     "output_type": "stream",
     "text": [
      "# Jupyter Notebook ベースのアプリで綺麗に表示するモード\n"
     ]
    },
    {
     "data": {
      "text/latex": [
       "$\\displaystyle f(x) = x$"
      ],
      "text/plain": [
       "<IPython.core.display.Math object>"
      ]
     },
     "metadata": {},
     "output_type": "display_data"
    },
    {
     "name": "stdout",
     "output_type": "stream",
     "text": [
      "# Latexに貼り付けられる形で表示するモード\n",
      "f(x) = x \\\\\n"
     ]
    }
   ],
   "source": [
    "alg_calc = BasicAlgebraicCalculationClass()\n",
    "\n",
    "# Jupyter Notebook ベースのアプリで綺麗に表示するモード\n",
    "print(\"# Jupyter Notebook ベースのアプリで綺麗に表示するモード\")\n",
    "alg_calc.print_formula()\n",
    "\n",
    "# Latexに貼り付けられる形で表示するモード\n",
    "print(\"# Latexに貼り付けられる形で表示するモード\")\n",
    "alg_calc.select_print_mode(True)\n",
    "alg_calc.print_formula()"
   ]
  },
  {
   "cell_type": "markdown",
   "metadata": {
    "id": "vbeT8HDl67-c"
   },
   "source": [
    "### 関数計算"
   ]
  },
  {
   "cell_type": "code",
   "execution_count": 5,
   "metadata": {
    "colab": {
     "base_uri": "https://localhost:8080/",
     "height": 240
    },
    "id": "JOzpIPIo7AYJ",
    "outputId": "065fdc1d-3260-411f-8b08-262de8b7474e"
   },
   "outputs": [
    {
     "name": "stdout",
     "output_type": "stream",
     "text": [
      "# 関数を宣言する。\n"
     ]
    },
    {
     "data": {
      "text/latex": [
       "$\\displaystyle f(x,y) = a x + b y^{\\alpha} + c^{\\beta}$"
      ],
      "text/plain": [
       "<IPython.core.display.Math object>"
      ]
     },
     "metadata": {},
     "output_type": "display_data"
    },
    {
     "name": "stdout",
     "output_type": "stream",
     "text": [
      "# 不定積分を行う。\n"
     ]
    },
    {
     "data": {
      "text/latex": [
       "$\\displaystyle \\int f(x,y)dy = a x y + b \\left(\\begin{cases} \\frac{y^{\\alpha + 1}}{\\alpha + 1} & \\text{for}\\: \\alpha \\neq -1 \\\\\\log{\\left(y \\right)} & \\text{otherwise} \\end{cases}\\right) + c^{\\beta} y$"
      ],
      "text/plain": [
       "<IPython.core.display.Math object>"
      ]
     },
     "metadata": {},
     "output_type": "display_data"
    },
    {
     "name": "stdout",
     "output_type": "stream",
     "text": [
      "# 定積分を行う。\n"
     ]
    },
    {
     "data": {
      "text/latex": [
       "$\\displaystyle \\int_{0}^{2}f(x,y)dx = 2 a + 2 b y^{\\alpha} + 2 c^{\\beta}$"
      ],
      "text/plain": [
       "<IPython.core.display.Math object>"
      ]
     },
     "metadata": {},
     "output_type": "display_data"
    },
    {
     "name": "stdout",
     "output_type": "stream",
     "text": [
      "# 微分を行う。\n"
     ]
    },
    {
     "data": {
      "text/latex": [
       "$\\displaystyle \\frac{d}{dc}f(x,y) = \\frac{\\beta c^{\\beta}}{c}$"
      ],
      "text/plain": [
       "<IPython.core.display.Math object>"
      ]
     },
     "metadata": {},
     "output_type": "display_data"
    }
   ],
   "source": [
    "alg_calc = BasicAlgebraicCalculationClass()\n",
    "\n",
    "# 関数を宣言する。\n",
    "print(\"# 関数を宣言する。\")\n",
    "var = alg_calc.create_variables( [\"a\", \"x\", \"b\", \"y\", \"c\",\"\\\\alpha\", \"\\\\beta\"] )\n",
    "fun = var[0] * var[1] + var[2] * var[3]**var[5] + var[4]**var[6]\n",
    "alg_calc.set_left_hand_side( 'f(x,y)' )\n",
    "fxy = alg_calc.left_hand_side\n",
    "alg_calc.set_right_hand_side( fun )\n",
    "alg_calc.print_formula()\n",
    "\n",
    "# 不定積分を行う。\n",
    "print(\"# 不定積分を行う。\")\n",
    "alg_calc.set_formula( fxy, fun )\n",
    "ind_intg = alg_calc.indefinite_integral( var[3], True )\n",
    "alg_calc.print_formula()\n",
    "\n",
    "# 定積分を行う。\n",
    "print(\"# 定積分を行う。\")\n",
    "int_range = [0, 2]\n",
    "alg_calc.set_formula( fxy, fun )\n",
    "def_intg = alg_calc.definite_integral( var[1] , *int_range, True )\n",
    "alg_calc.print_formula()\n",
    "\n",
    "# 微分を行う。\n",
    "print(\"# 微分を行う。\")\n",
    "alg_calc.set_formula( fxy, fun )\n",
    "dif_func = alg_calc.differentiate( var[4], True )\n",
    "alg_calc.print_formula()"
   ]
  },
  {
   "cell_type": "markdown",
   "metadata": {
    "id": "5vFUMzW24_ES"
   },
   "source": [
    "### 行列計算"
   ]
  },
  {
   "cell_type": "code",
   "execution_count": 6,
   "metadata": {
    "colab": {
     "base_uri": "https://localhost:8080/",
     "height": 681
    },
    "id": "DmJxqmrrowua",
    "outputId": "726caa8a-c0af-4e7f-b324-7e2e6aa3f571"
   },
   "outputs": [
    {
     "name": "stdout",
     "output_type": "stream",
     "text": [
      "#　任意の正方行列を宣言する。\n"
     ]
    },
    {
     "data": {
      "text/latex": [
       "$\\displaystyle A = \\left[\\begin{matrix}a_{1 1} & a_{1 2} & a_{1 3} & a_{1 4} & a_{1 5} & a_{1 6} & a_{1 7} & a_{1 8} & a_{1 9} & a_{1 10}\\\\a_{2 1} & a_{2 2} & a_{2 3} & a_{2 4} & a_{2 5} & a_{2 6} & a_{2 7} & a_{2 8} & a_{2 9} & a_{2 10}\\\\a_{3 1} & a_{3 2} & a_{3 3} & a_{3 4} & a_{3 5} & a_{3 6} & a_{3 7} & a_{3 8} & a_{3 9} & a_{3 10}\\\\a_{4 1} & a_{4 2} & a_{4 3} & a_{4 4} & a_{4 5} & a_{4 6} & a_{4 7} & a_{4 8} & a_{4 9} & a_{4 10}\\\\a_{5 1} & a_{5 2} & a_{5 3} & a_{5 4} & a_{5 5} & a_{5 6} & a_{5 7} & a_{5 8} & a_{5 9} & a_{5 10}\\\\a_{6 1} & a_{6 2} & a_{6 3} & a_{6 4} & a_{6 5} & a_{6 6} & a_{6 7} & a_{6 8} & a_{6 9} & a_{6 10}\\\\a_{7 1} & a_{7 2} & a_{7 3} & a_{7 4} & a_{7 5} & a_{7 6} & a_{7 7} & a_{7 8} & a_{7 9} & a_{7 10}\\\\a_{8 1} & a_{8 2} & a_{8 3} & a_{8 4} & a_{8 5} & a_{8 6} & a_{8 7} & a_{8 8} & a_{8 9} & a_{8 10}\\\\a_{9 1} & a_{9 2} & a_{9 3} & a_{9 4} & a_{9 5} & a_{9 6} & a_{9 7} & a_{9 8} & a_{9 9} & a_{9 10}\\\\a_{10 1} & a_{10 2} & a_{10 3} & a_{10 4} & a_{10 5} & a_{10 6} & a_{10 7} & a_{10 8} & a_{10 9} & a_{10 10}\\end{matrix}\\right]$"
      ],
      "text/plain": [
       "<IPython.core.display.Math object>"
      ]
     },
     "metadata": {},
     "output_type": "display_data"
    },
    {
     "name": "stdout",
     "output_type": "stream",
     "text": [
      "# ヒルベルト行列の値を各要素に代入\n"
     ]
    },
    {
     "data": {
      "text/latex": [
       "$\\displaystyle H = \\left[\\begin{matrix}1 & \\frac{1}{2} & \\frac{1}{3} & \\frac{1}{4} & \\frac{1}{5} & \\frac{1}{6} & \\frac{1}{7} & \\frac{1}{8} & \\frac{1}{9} & \\frac{1}{10}\\\\\\frac{1}{2} & \\frac{1}{3} & \\frac{1}{4} & \\frac{1}{5} & \\frac{1}{6} & \\frac{1}{7} & \\frac{1}{8} & \\frac{1}{9} & \\frac{1}{10} & \\frac{1}{11}\\\\\\frac{1}{3} & \\frac{1}{4} & \\frac{1}{5} & \\frac{1}{6} & \\frac{1}{7} & \\frac{1}{8} & \\frac{1}{9} & \\frac{1}{10} & \\frac{1}{11} & \\frac{1}{12}\\\\\\frac{1}{4} & \\frac{1}{5} & \\frac{1}{6} & \\frac{1}{7} & \\frac{1}{8} & \\frac{1}{9} & \\frac{1}{10} & \\frac{1}{11} & \\frac{1}{12} & \\frac{1}{13}\\\\\\frac{1}{5} & \\frac{1}{6} & \\frac{1}{7} & \\frac{1}{8} & \\frac{1}{9} & \\frac{1}{10} & \\frac{1}{11} & \\frac{1}{12} & \\frac{1}{13} & \\frac{1}{14}\\\\\\frac{1}{6} & \\frac{1}{7} & \\frac{1}{8} & \\frac{1}{9} & \\frac{1}{10} & \\frac{1}{11} & \\frac{1}{12} & \\frac{1}{13} & \\frac{1}{14} & \\frac{1}{15}\\\\\\frac{1}{7} & \\frac{1}{8} & \\frac{1}{9} & \\frac{1}{10} & \\frac{1}{11} & \\frac{1}{12} & \\frac{1}{13} & \\frac{1}{14} & \\frac{1}{15} & \\frac{1}{16}\\\\\\frac{1}{8} & \\frac{1}{9} & \\frac{1}{10} & \\frac{1}{11} & \\frac{1}{12} & \\frac{1}{13} & \\frac{1}{14} & \\frac{1}{15} & \\frac{1}{16} & \\frac{1}{17}\\\\\\frac{1}{9} & \\frac{1}{10} & \\frac{1}{11} & \\frac{1}{12} & \\frac{1}{13} & \\frac{1}{14} & \\frac{1}{15} & \\frac{1}{16} & \\frac{1}{17} & \\frac{1}{18}\\\\\\frac{1}{10} & \\frac{1}{11} & \\frac{1}{12} & \\frac{1}{13} & \\frac{1}{14} & \\frac{1}{15} & \\frac{1}{16} & \\frac{1}{17} & \\frac{1}{18} & \\frac{1}{19}\\end{matrix}\\right]$"
      ],
      "text/plain": [
       "<IPython.core.display.Math object>"
      ]
     },
     "metadata": {},
     "output_type": "display_data"
    },
    {
     "name": "stdout",
     "output_type": "stream",
     "text": [
      "# 対角化を行った後に元のヒルベルト行列との差をとる\n"
     ]
    },
    {
     "data": {
      "text/latex": [
       "$\\displaystyle H-PDP^{-1} = \\left[\\begin{matrix}0 & 0 & 0 & 0 & 0 & 0 & 0 & 0 & 0 & 0\\\\0 & 0 & 0 & 0 & 0 & 0 & 0 & 0 & 0 & 0\\\\0 & 0 & 0 & 0 & 0 & 0 & 0 & 0 & 0 & 0\\\\0 & 0 & 0 & 0 & 0 & 0 & 0 & 0 & 0 & 0\\\\0 & 0 & 0 & 0 & 0 & 0 & 0 & 0 & 0 & 0\\\\0 & 0 & 0 & 0 & 0 & 0 & 0 & 0 & 0 & 0\\\\0 & 0 & 0 & 0 & 0 & 0 & 0 & 0 & 0 & 0\\\\0 & 0 & 0 & 0 & 0 & 0 & 0 & 0 & 0 & 0\\\\0 & 0 & 0 & 0 & 0 & 0 & 0 & 0 & 0 & 0\\\\0 & 0 & 0 & 0 & 0 & 0 & 0 & 0 & 0 & 0\\end{matrix}\\right]$"
      ],
      "text/plain": [
       "<IPython.core.display.Math object>"
      ]
     },
     "metadata": {},
     "output_type": "display_data"
    }
   ],
   "source": [
    "#ヒルベルト行列をnumpyで計算する関数\n",
    "def hilbert_matrix( n ):\n",
    "  H = numpy.zeros( ( n, n ) )\n",
    "  for i in range( n ):\n",
    "    for j in range( n ):\n",
    "      H[ i, j ] = 1 / ( i + j + 1 )\n",
    "  return H\n",
    "\n",
    "alg_calc = BasicAlgebraicCalculationClass()\n",
    "\n",
    "#　任意の正方行列を宣言する。\n",
    "print(\"#　任意の正方行列を宣言する。\")\n",
    "n = 10\n",
    "A, a = alg_calc.create_martix_symbols( \"A\", n, n )\n",
    "alg_calc.set_left_hand_side( 'A' )\n",
    "alg_calc.set_right_hand_side( A )\n",
    "alg_calc.print_formula()\n",
    "\n",
    "# ヒルベルト行列の値を各要素に代入\n",
    "print(\"# ヒルベルト行列の値を各要素に代入\")\n",
    "h_np = hilbert_matrix( n ).flatten()\n",
    "alg_calc.assign_values( a, h_np )\n",
    "h_sy = ( alg_calc.get_matrix( alg_calc.get_variable_values() ) )\n",
    "alg_calc.set_left_hand_side( 'H' )\n",
    "alg_calc.set_right_hand_side( sympy.nsimplify( h_sy, rational=True ) )\n",
    "alg_calc.print_formula()\n",
    "\n",
    "# 対角化を行った後に元のヒルベルト行列との差をとる\n",
    "print(\"# 対角化を行った後に元のヒルベルト行列との差をとる\")\n",
    "alg_calc.set_right_hand_side( h_sy )\n",
    "p, d = alg_calc.right_hand_side.diagonalize()\n",
    "alg_calc.set_right_hand_side( h_sy -  p * d * p**-1 )\n",
    "alg_calc.round_right_hand_side( 10 )\n",
    "alg_calc.set_left_hand_side( 'H-PDP^{-1}' )\n",
    "alg_calc.print_formula()"
   ]
  },
  {
   "cell_type": "markdown",
   "metadata": {
    "id": "nt6PEiyAbexJ"
   },
   "source": [
    "## 誤差伝搬計算のやり方"
   ]
  },
  {
   "cell_type": "markdown",
   "metadata": {
    "id": "K6RT4aot5GbE"
   },
   "source": [
    "### 最も簡単な例"
   ]
  },
  {
   "cell_type": "code",
   "execution_count": 7,
   "metadata": {
    "colab": {
     "base_uri": "https://localhost:8080/",
     "height": 333
    },
    "id": "x9gAglKB57gX",
    "outputId": "c2f1155c-208a-4cbf-b2b0-34844d713c5f"
   },
   "outputs": [
    {
     "name": "stdout",
     "output_type": "stream",
     "text": [
      "# まず誤差伝搬をしたい関数と変数を定義する\n"
     ]
    },
    {
     "data": {
      "text/latex": [
       "$\\displaystyle f(\\alpha, \\beta) = \\sqrt{\\frac{\\alpha}{\\beta}}$"
      ],
      "text/plain": [
       "<IPython.core.display.Math object>"
      ]
     },
     "metadata": {},
     "output_type": "display_data"
    },
    {
     "name": "stdout",
     "output_type": "stream",
     "text": [
      "# 誤差伝搬の各項を計算する（代数計算）\n"
     ]
    },
    {
     "data": {
      "text/latex": [
       "$\\displaystyle {\\delta}f=\\sqrt{\\sum_{i=0}^{n} \\left( \\frac{{\\partial} f}{{\\partial} x_i} {\\delta}x_i \\right)^2}$"
      ],
      "text/plain": [
       "<IPython.core.display.Math object>"
      ]
     },
     "metadata": {},
     "output_type": "display_data"
    },
    {
     "data": {
      "text/latex": [
       "$\\displaystyle x_0 = \\alpha$"
      ],
      "text/plain": [
       "<IPython.core.display.Math object>"
      ]
     },
     "metadata": {},
     "output_type": "display_data"
    },
    {
     "data": {
      "text/latex": [
       "$\\displaystyle x_1 = \\beta$"
      ],
      "text/plain": [
       "<IPython.core.display.Math object>"
      ]
     },
     "metadata": {},
     "output_type": "display_data"
    },
    {
     "data": {
      "text/latex": [
       "$\\displaystyle \\frac{\\partial f(\\alpha, \\beta) }{ \\partial \\alpha } = \\frac{\\sqrt{\\frac{\\alpha}{\\beta}}}{2 \\alpha}$"
      ],
      "text/plain": [
       "<IPython.core.display.Math object>"
      ]
     },
     "metadata": {},
     "output_type": "display_data"
    },
    {
     "data": {
      "text/latex": [
       "$\\displaystyle \\frac{\\partial f(\\alpha, \\beta) }{ \\partial \\beta } = - \\frac{\\sqrt{\\frac{\\alpha}{\\beta}}}{2 \\beta}$"
      ],
      "text/plain": [
       "<IPython.core.display.Math object>"
      ]
     },
     "metadata": {},
     "output_type": "display_data"
    },
    {
     "name": "stdout",
     "output_type": "stream",
     "text": [
      "# 誤差伝搬の代数計算の結果を使って実際に誤差を計算する\n"
     ]
    },
    {
     "data": {
      "text/latex": [
       "$\\displaystyle f(\\alpha, \\beta) \\pm \\delta f(\\alpha, \\beta) = 0.960139 \\pm 0.005086$"
      ],
      "text/plain": [
       "<IPython.core.display.Math object>"
      ]
     },
     "metadata": {},
     "output_type": "display_data"
    }
   ],
   "source": [
    "# まず誤差伝搬をしたい関数と変数を定義する\n",
    "print(\"# まず誤差伝搬をしたい関数と変数を定義する\")\n",
    "err_pro = ErrorPropagationClass()\n",
    "var = err_pro.create_variables( [\"\\\\alpha\",\"\\\\beta\"] )\n",
    "fun = sympy.sqrt( var[0] / var[1] )\n",
    "err_pro.set_left_hand_side( 'f(\\\\alpha, \\\\beta)' )\n",
    "err_pro.set_right_hand_side( fun )\n",
    "err_pro.set_variable_symbols()\n",
    "err_pro.print_formula()\n",
    "\n",
    "# 誤差伝搬の各項を計算する（代数計算）\n",
    "print(\"# 誤差伝搬の各項を計算する（代数計算）\")\n",
    "err_pro.partial_derivative( True )\n",
    "\n",
    "# 誤差伝搬の代数計算の結果を使って実際に誤差を計算する\n",
    "print(\"# 誤差伝搬の代数計算の結果を使って実際に誤差を計算する\")\n",
    "val = [17120., 18571.]\n",
    "err = [numpy.sqrt(x) for x in val]\n",
    "err_pro.set_value_series( val )\n",
    "err_pro.set_error_series( err )\n",
    "result = err_pro.calculate_erorr( True, 6 )"
   ]
  },
  {
   "cell_type": "markdown",
   "metadata": {
    "id": "UGwXDQov5Kap"
   },
   "source": [
    "### Woods–Saxon ポテンシャル"
   ]
  },
  {
   "cell_type": "code",
   "execution_count": 8,
   "metadata": {
    "colab": {
     "base_uri": "https://localhost:8080/",
     "height": 804
    },
    "id": "_5M1YJAbt8yT",
    "outputId": "c5dba894-c62f-41b0-82fb-b21cc6673a66"
   },
   "outputs": [
    {
     "name": "stdout",
     "output_type": "stream",
     "text": [
      "# Woods–Saxonの誤差伝搬を計算する(代数計算)\n"
     ]
    },
    {
     "data": {
      "text/latex": [
       "$\\displaystyle f(r, R_i, a_i) = \\frac{1}{e^{\\frac{- R_{i} + r}{a_{i}}} + 1}$"
      ],
      "text/plain": [
       "<IPython.core.display.Math object>"
      ]
     },
     "metadata": {},
     "output_type": "display_data"
    },
    {
     "data": {
      "text/latex": [
       "$\\displaystyle {\\delta}f=\\sqrt{\\sum_{i=0}^{n} \\left( \\frac{{\\partial} f}{{\\partial} x_i} {\\delta}x_i \\right)^2}$"
      ],
      "text/plain": [
       "<IPython.core.display.Math object>"
      ]
     },
     "metadata": {},
     "output_type": "display_data"
    },
    {
     "data": {
      "text/latex": [
       "$\\displaystyle x_0 = r$"
      ],
      "text/plain": [
       "<IPython.core.display.Math object>"
      ]
     },
     "metadata": {},
     "output_type": "display_data"
    },
    {
     "data": {
      "text/latex": [
       "$\\displaystyle x_1 = R_i$"
      ],
      "text/plain": [
       "<IPython.core.display.Math object>"
      ]
     },
     "metadata": {},
     "output_type": "display_data"
    },
    {
     "data": {
      "text/latex": [
       "$\\displaystyle x_2 = a_i$"
      ],
      "text/plain": [
       "<IPython.core.display.Math object>"
      ]
     },
     "metadata": {},
     "output_type": "display_data"
    },
    {
     "data": {
      "text/latex": [
       "$\\displaystyle \\frac{\\partial f(r, R_i, a_i) }{ \\partial r } = - \\frac{e^{\\frac{- R_{i} + r}{a_{i}}}}{a_{i} \\left(e^{\\frac{- R_{i} + r}{a_{i}}} + 1\\right)^{2}}$"
      ],
      "text/plain": [
       "<IPython.core.display.Math object>"
      ]
     },
     "metadata": {},
     "output_type": "display_data"
    },
    {
     "data": {
      "text/latex": [
       "$\\displaystyle \\frac{\\partial f(r, R_i, a_i) }{ \\partial R_i } = \\frac{e^{\\frac{- R_{i} + r}{a_{i}}}}{a_{i} \\left(e^{\\frac{- R_{i} + r}{a_{i}}} + 1\\right)^{2}}$"
      ],
      "text/plain": [
       "<IPython.core.display.Math object>"
      ]
     },
     "metadata": {},
     "output_type": "display_data"
    },
    {
     "data": {
      "text/latex": [
       "$\\displaystyle \\frac{\\partial f(r, R_i, a_i) }{ \\partial a_i } = \\frac{\\left(- R_{i} + r\\right) e^{\\frac{- R_{i} + r}{a_{i}}}}{a_{i}^{2} \\left(e^{\\frac{- R_{i} + r}{a_{i}}} + 1\\right)^{2}}$"
      ],
      "text/plain": [
       "<IPython.core.display.Math object>"
      ]
     },
     "metadata": {},
     "output_type": "display_data"
    },
    {
     "name": "stdout",
     "output_type": "stream",
     "text": [
      "# Woods–Saxonの微分の誤差伝搬を計算する(代数計算)\n"
     ]
    },
    {
     "data": {
      "text/latex": [
       "$\\displaystyle \\frac{d}{dr}f(r, R_i, a_i) = - \\frac{e^{\\frac{- R_{i} + r}{a_{i}}}}{a_{i} \\left(e^{\\frac{- R_{i} + r}{a_{i}}} + 1\\right)^{2}}$"
      ],
      "text/plain": [
       "<IPython.core.display.Math object>"
      ]
     },
     "metadata": {},
     "output_type": "display_data"
    },
    {
     "data": {
      "text/latex": [
       "$\\displaystyle {\\delta}f=\\sqrt{\\sum_{i=0}^{n} \\left( \\frac{{\\partial} f}{{\\partial} x_i} {\\delta}x_i \\right)^2}$"
      ],
      "text/plain": [
       "<IPython.core.display.Math object>"
      ]
     },
     "metadata": {},
     "output_type": "display_data"
    },
    {
     "data": {
      "text/latex": [
       "$\\displaystyle x_0 = r$"
      ],
      "text/plain": [
       "<IPython.core.display.Math object>"
      ]
     },
     "metadata": {},
     "output_type": "display_data"
    },
    {
     "data": {
      "text/latex": [
       "$\\displaystyle x_1 = R_i$"
      ],
      "text/plain": [
       "<IPython.core.display.Math object>"
      ]
     },
     "metadata": {},
     "output_type": "display_data"
    },
    {
     "data": {
      "text/latex": [
       "$\\displaystyle x_2 = a_i$"
      ],
      "text/plain": [
       "<IPython.core.display.Math object>"
      ]
     },
     "metadata": {},
     "output_type": "display_data"
    },
    {
     "data": {
      "text/latex": [
       "$\\displaystyle \\frac{\\partial \\frac{d}{dr}f(r, R_i, a_i) }{ \\partial r } = - \\frac{e^{\\frac{- R_{i} + r}{a_{i}}}}{a_{i}^{2} \\left(e^{\\frac{- R_{i} + r}{a_{i}}} + 1\\right)^{2}} + \\frac{2 e^{\\frac{2 \\left(- R_{i} + r\\right)}{a_{i}}}}{a_{i}^{2} \\left(e^{\\frac{- R_{i} + r}{a_{i}}} + 1\\right)^{3}}$"
      ],
      "text/plain": [
       "<IPython.core.display.Math object>"
      ]
     },
     "metadata": {},
     "output_type": "display_data"
    },
    {
     "data": {
      "text/latex": [
       "$\\displaystyle \\frac{\\partial \\frac{d}{dr}f(r, R_i, a_i) }{ \\partial R_i } = \\frac{e^{\\frac{- R_{i} + r}{a_{i}}}}{a_{i}^{2} \\left(e^{\\frac{- R_{i} + r}{a_{i}}} + 1\\right)^{2}} - \\frac{2 e^{\\frac{2 \\left(- R_{i} + r\\right)}{a_{i}}}}{a_{i}^{2} \\left(e^{\\frac{- R_{i} + r}{a_{i}}} + 1\\right)^{3}}$"
      ],
      "text/plain": [
       "<IPython.core.display.Math object>"
      ]
     },
     "metadata": {},
     "output_type": "display_data"
    },
    {
     "data": {
      "text/latex": [
       "$\\displaystyle \\frac{\\partial \\frac{d}{dr}f(r, R_i, a_i) }{ \\partial a_i } = \\frac{e^{\\frac{- R_{i} + r}{a_{i}}}}{a_{i}^{2} \\left(e^{\\frac{- R_{i} + r}{a_{i}}} + 1\\right)^{2}} + \\frac{\\left(- R_{i} + r\\right) e^{\\frac{- R_{i} + r}{a_{i}}}}{a_{i}^{3} \\left(e^{\\frac{- R_{i} + r}{a_{i}}} + 1\\right)^{2}} - \\frac{2 \\left(- R_{i} + r\\right) e^{\\frac{2 \\left(- R_{i} + r\\right)}{a_{i}}}}{a_{i}^{3} \\left(e^{\\frac{- R_{i} + r}{a_{i}}} + 1\\right)^{3}}$"
      ],
      "text/plain": [
       "<IPython.core.display.Math object>"
      ]
     },
     "metadata": {},
     "output_type": "display_data"
    }
   ],
   "source": [
    "# Woods–Saxon ポテンシャルを宣言する\n",
    "err_pro = ErrorPropagationClass()\n",
    "var = err_pro.create_variables( [\"r\",\"R_i\",\"a_i\"] )\n",
    "fun = 1 / ( 1+ sympy.exp( ( var[0] - var[1] ) / var[2] ) )\n",
    "err_pro.set_left_hand_side( 'f(r, R_i, a_i)' )\n",
    "err_pro.set_right_hand_side( fun )\n",
    "err_pro.set_variable_symbols()\n",
    "\n",
    "# 微分を計算する\n",
    "dif_err_pro = err_pro.copy_class()\n",
    "dif_err_pro.differentiate( 'r' , True )\n",
    "\n",
    "# Woods–Saxonの誤差伝搬を計算する(代数計算)\n",
    "print(\"# Woods–Saxonの誤差伝搬を計算する(代数計算)\")\n",
    "err_pro.print_formula()\n",
    "err_pro.partial_derivative( True )\n",
    "\n",
    "# Woods–Saxonの微分の誤差伝搬を計算する(代数計算)\n",
    "print(\"# Woods–Saxonの微分の誤差伝搬を計算する(代数計算)\")\n",
    "dif_err_pro.print_formula()\n",
    "dif_err_pro.partial_derivative( True )"
   ]
  },
  {
   "cell_type": "markdown",
   "metadata": {
    "id": "SjDJRyob6ncV"
   },
   "source": [
    "最後に代数計算クラスを使って関数とその微分を計算し、誤差とともに描画する。\n",
    "\n",
    "今回は鉛の場合を計算してみる。"
   ]
  },
  {
   "cell_type": "code",
   "execution_count": 9,
   "metadata": {
    "id": "NbZWlTwbvKIX"
   },
   "outputs": [],
   "source": [
    "ws_r0 = 1.15 # fm\n",
    "ws_M = 208.\n",
    "ws_R = ws_r0 * ws_M**(1./3.)\n",
    "ws_a = 0.54\n",
    "\n",
    "fac_calc = ErrorPropagationClass()\n",
    "var = fac_calc.create_variables( [\"r\"] )\n",
    "fun = 1 / ( 1+ sympy.exp( ( var[0] - ws_R ) / ws_a ) )\n",
    "fac_calc.set_formula( 'f', fun )\n",
    "factor = fac_calc.definite_integral('r', 0, 30, True)\n",
    "\n",
    "ws_x  = []\n",
    "ws_y  = []\n",
    "ws_ye = []\n",
    "dws_y  = []\n",
    "dws_ye = []\n",
    "\n",
    "for i in range(100):\n",
    "\n",
    "  r_val = 15. * i / 100.\n",
    "  ws_x.append( r_val )\n",
    "\n",
    "  val = [r_val, ws_R, ws_a ]\n",
    "  err = [0, 0.05*ws_M**(1./3.), 0.05]\n",
    "\n",
    "  err_pro.set_value_series( val )\n",
    "  err_pro.set_error_series( err )\n",
    "  result = err_pro.calculate_erorr()\n",
    "  ws_ye.append( result[0] / float( factor ) )\n",
    "  ws_y.append( result[1] / float( factor ) )\n",
    "\n",
    "  dif_err_pro.set_value_series( val )\n",
    "  dif_err_pro.set_error_series( err )\n",
    "  dif_result = dif_err_pro.calculate_erorr()\n",
    "  dws_ye.append( dif_result[0] / float( factor ) )\n",
    "  dws_y.append( dif_result[1] / float( factor ) )"
   ]
  },
  {
   "cell_type": "markdown",
   "metadata": {
    "id": "1ZnVqvkV69Ui"
   },
   "source": [
    "最後に描画する。"
   ]
  },
  {
   "cell_type": "code",
   "execution_count": 10,
   "metadata": {
    "colab": {
     "base_uri": "https://localhost:8080/",
     "height": 564
    },
    "id": "p8jXukz3xWgb",
    "outputId": "d1ddfe04-1fd6-4d03-83a6-b52d3d3efaf8"
   },
   "outputs": [
    {
     "data": {
      "image/png": "[encoded data removed]",
      "text/plain": [
       "<Figure size 1000x600 with 1 Axes>"
      ]
     },
     "metadata": {},
     "output_type": "display_data"
    }
   ],
   "source": [
    "x = numpy.array(ws_x)\n",
    "y1 = numpy.array(ws_y)\n",
    "y1e = numpy.array(ws_ye)\n",
    "y2 = numpy.array(dws_y)\n",
    "y2e = numpy.array(dws_ye)\n",
    "\n",
    "plt.figure(figsize=(10, 6))\n",
    "\n",
    "plt.fill_between( x, y1 - y1e, y1 + y1e, color='red', edgecolor='gray', alpha=0.1 )\n",
    "plt.fill_between( x, y2 - y2e, y2 + y2e, color='blue', edgecolor='gray', alpha=0.1 )\n",
    "plt.plot(x, y1, color='red', label='Woods–Saxon')\n",
    "plt.plot(x, y2, color='blue', label='Differentiation of Woods–Saxon')\n",
    "\n",
    "plt.xlabel('Radius [fm]')\n",
    "plt.ylabel('Value')\n",
    "plt.title('Plot with Error Hatch')\n",
    "plt.legend()\n",
    "plt.show()"
   ]
  }
 ],
 "metadata": {
  "colab": {
   "provenance": [],
   "toc_visible": true
  },
  "kernelspec": {
   "display_name": "Python 3 (ipykernel)",
   "language": "python",
   "name": "python3"
  },
  "language_info": {
   "codemirror_mode": {
    "name": "ipython",
    "version": 3
   },
   "file_extension": ".py",
   "mimetype": "text/x-python",
   "name": "python",
   "nbconvert_exporter": "python",
   "pygments_lexer": "ipython3",
   "version": "3.12.3"
  }
 },
 "nbformat": 4,
 "nbformat_minor": 4
}
